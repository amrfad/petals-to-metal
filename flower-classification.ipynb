{
 "cells": [
  {
   "cell_type": "code",
   "execution_count": 1,
   "id": "46cfb9c6",
   "metadata": {
    "_cell_guid": "b1076dfc-b9ad-4769-8c92-a6c4dae69d19",
    "_uuid": "8f2839f25d086af736a60e9eeb907d3b93b6e0e5",
    "execution": {
     "iopub.execute_input": "2024-02-29T06:39:00.042474Z",
     "iopub.status.busy": "2024-02-29T06:39:00.042034Z",
     "iopub.status.idle": "2024-02-29T06:39:01.143606Z",
     "shell.execute_reply": "2024-02-29T06:39:01.142434Z"
    },
    "papermill": {
     "duration": 1.115034,
     "end_time": "2024-02-29T06:39:01.149288",
     "exception": false,
     "start_time": "2024-02-29T06:39:00.034254",
     "status": "completed"
    },
    "tags": []
   },
   "outputs": [
    {
     "name": "stdout",
     "output_type": "stream",
     "text": [
      "/kaggle/input/tpu-getting-started/sample_submission.csv\n",
      "/kaggle/input/tpu-getting-started/tfrecords-jpeg-224x224/val/09-224x224-232.tfrec\n",
      "/kaggle/input/tpu-getting-started/tfrecords-jpeg-224x224/val/14-224x224-232.tfrec\n",
      "/kaggle/input/tpu-getting-started/tfrecords-jpeg-224x224/val/01-224x224-232.tfrec\n",
      "/kaggle/input/tpu-getting-started/tfrecords-jpeg-224x224/val/13-224x224-232.tfrec\n",
      "/kaggle/input/tpu-getting-started/tfrecords-jpeg-224x224/val/00-224x224-232.tfrec\n",
      "/kaggle/input/tpu-getting-started/tfrecords-jpeg-224x224/val/07-224x224-232.tfrec\n",
      "/kaggle/input/tpu-getting-started/tfrecords-jpeg-224x224/val/12-224x224-232.tfrec\n",
      "/kaggle/input/tpu-getting-started/tfrecords-jpeg-224x224/val/11-224x224-232.tfrec\n",
      "/kaggle/input/tpu-getting-started/tfrecords-jpeg-224x224/val/05-224x224-232.tfrec\n",
      "/kaggle/input/tpu-getting-started/tfrecords-jpeg-224x224/val/04-224x224-232.tfrec\n",
      "/kaggle/input/tpu-getting-started/tfrecords-jpeg-224x224/val/15-224x224-232.tfrec\n",
      "/kaggle/input/tpu-getting-started/tfrecords-jpeg-224x224/val/06-224x224-232.tfrec\n",
      "/kaggle/input/tpu-getting-started/tfrecords-jpeg-224x224/val/02-224x224-232.tfrec\n",
      "/kaggle/input/tpu-getting-started/tfrecords-jpeg-224x224/val/03-224x224-232.tfrec\n",
      "/kaggle/input/tpu-getting-started/tfrecords-jpeg-224x224/val/08-224x224-232.tfrec\n",
      "/kaggle/input/tpu-getting-started/tfrecords-jpeg-224x224/val/10-224x224-232.tfrec\n",
      "/kaggle/input/tpu-getting-started/tfrecords-jpeg-224x224/test/04-224x224-462.tfrec\n",
      "/kaggle/input/tpu-getting-started/tfrecords-jpeg-224x224/test/06-224x224-462.tfrec\n",
      "/kaggle/input/tpu-getting-started/tfrecords-jpeg-224x224/test/05-224x224-462.tfrec\n",
      "/kaggle/input/tpu-getting-started/tfrecords-jpeg-224x224/test/08-224x224-462.tfrec\n",
      "/kaggle/input/tpu-getting-started/tfrecords-jpeg-224x224/test/15-224x224-452.tfrec\n",
      "/kaggle/input/tpu-getting-started/tfrecords-jpeg-224x224/test/09-224x224-462.tfrec\n",
      "/kaggle/input/tpu-getting-started/tfrecords-jpeg-224x224/test/10-224x224-462.tfrec\n",
      "/kaggle/input/tpu-getting-started/tfrecords-jpeg-224x224/test/07-224x224-462.tfrec\n",
      "/kaggle/input/tpu-getting-started/tfrecords-jpeg-224x224/test/00-224x224-462.tfrec\n",
      "/kaggle/input/tpu-getting-started/tfrecords-jpeg-224x224/test/01-224x224-462.tfrec\n",
      "/kaggle/input/tpu-getting-started/tfrecords-jpeg-224x224/test/12-224x224-462.tfrec\n",
      "/kaggle/input/tpu-getting-started/tfrecords-jpeg-224x224/test/14-224x224-462.tfrec\n",
      "/kaggle/input/tpu-getting-started/tfrecords-jpeg-224x224/test/03-224x224-462.tfrec\n",
      "/kaggle/input/tpu-getting-started/tfrecords-jpeg-224x224/test/02-224x224-462.tfrec\n",
      "/kaggle/input/tpu-getting-started/tfrecords-jpeg-224x224/test/11-224x224-462.tfrec\n",
      "/kaggle/input/tpu-getting-started/tfrecords-jpeg-224x224/test/13-224x224-462.tfrec\n",
      "/kaggle/input/tpu-getting-started/tfrecords-jpeg-224x224/train/13-224x224-798.tfrec\n",
      "/kaggle/input/tpu-getting-started/tfrecords-jpeg-224x224/train/11-224x224-798.tfrec\n",
      "/kaggle/input/tpu-getting-started/tfrecords-jpeg-224x224/train/05-224x224-798.tfrec\n",
      "/kaggle/input/tpu-getting-started/tfrecords-jpeg-224x224/train/00-224x224-798.tfrec\n",
      "/kaggle/input/tpu-getting-started/tfrecords-jpeg-224x224/train/02-224x224-798.tfrec\n",
      "/kaggle/input/tpu-getting-started/tfrecords-jpeg-224x224/train/14-224x224-798.tfrec\n",
      "/kaggle/input/tpu-getting-started/tfrecords-jpeg-224x224/train/06-224x224-798.tfrec\n",
      "/kaggle/input/tpu-getting-started/tfrecords-jpeg-224x224/train/10-224x224-798.tfrec\n",
      "/kaggle/input/tpu-getting-started/tfrecords-jpeg-224x224/train/01-224x224-798.tfrec\n",
      "/kaggle/input/tpu-getting-started/tfrecords-jpeg-224x224/train/03-224x224-798.tfrec\n",
      "/kaggle/input/tpu-getting-started/tfrecords-jpeg-224x224/train/08-224x224-798.tfrec\n",
      "/kaggle/input/tpu-getting-started/tfrecords-jpeg-224x224/train/09-224x224-798.tfrec\n",
      "/kaggle/input/tpu-getting-started/tfrecords-jpeg-224x224/train/15-224x224-783.tfrec\n",
      "/kaggle/input/tpu-getting-started/tfrecords-jpeg-224x224/train/07-224x224-798.tfrec\n",
      "/kaggle/input/tpu-getting-started/tfrecords-jpeg-224x224/train/04-224x224-798.tfrec\n",
      "/kaggle/input/tpu-getting-started/tfrecords-jpeg-224x224/train/12-224x224-798.tfrec\n",
      "/kaggle/input/tpu-getting-started/tfrecords-jpeg-331x331/val/05-331x331-232.tfrec\n",
      "/kaggle/input/tpu-getting-started/tfrecords-jpeg-331x331/val/08-331x331-232.tfrec\n",
      "/kaggle/input/tpu-getting-started/tfrecords-jpeg-331x331/val/01-331x331-232.tfrec\n",
      "/kaggle/input/tpu-getting-started/tfrecords-jpeg-331x331/val/03-331x331-232.tfrec\n",
      "/kaggle/input/tpu-getting-started/tfrecords-jpeg-331x331/val/13-331x331-232.tfrec\n",
      "/kaggle/input/tpu-getting-started/tfrecords-jpeg-331x331/val/10-331x331-232.tfrec\n",
      "/kaggle/input/tpu-getting-started/tfrecords-jpeg-331x331/val/07-331x331-232.tfrec\n",
      "/kaggle/input/tpu-getting-started/tfrecords-jpeg-331x331/val/04-331x331-232.tfrec\n",
      "/kaggle/input/tpu-getting-started/tfrecords-jpeg-331x331/val/14-331x331-232.tfrec\n",
      "/kaggle/input/tpu-getting-started/tfrecords-jpeg-331x331/val/15-331x331-232.tfrec\n",
      "/kaggle/input/tpu-getting-started/tfrecords-jpeg-331x331/val/12-331x331-232.tfrec\n",
      "/kaggle/input/tpu-getting-started/tfrecords-jpeg-331x331/val/11-331x331-232.tfrec\n",
      "/kaggle/input/tpu-getting-started/tfrecords-jpeg-331x331/val/02-331x331-232.tfrec\n",
      "/kaggle/input/tpu-getting-started/tfrecords-jpeg-331x331/val/00-331x331-232.tfrec\n",
      "/kaggle/input/tpu-getting-started/tfrecords-jpeg-331x331/val/06-331x331-232.tfrec\n",
      "/kaggle/input/tpu-getting-started/tfrecords-jpeg-331x331/val/09-331x331-232.tfrec\n",
      "/kaggle/input/tpu-getting-started/tfrecords-jpeg-331x331/test/14-331x331-462.tfrec\n",
      "/kaggle/input/tpu-getting-started/tfrecords-jpeg-331x331/test/13-331x331-462.tfrec\n",
      "/kaggle/input/tpu-getting-started/tfrecords-jpeg-331x331/test/03-331x331-462.tfrec\n",
      "/kaggle/input/tpu-getting-started/tfrecords-jpeg-331x331/test/05-331x331-462.tfrec\n",
      "/kaggle/input/tpu-getting-started/tfrecords-jpeg-331x331/test/09-331x331-462.tfrec\n",
      "/kaggle/input/tpu-getting-started/tfrecords-jpeg-331x331/test/04-331x331-462.tfrec\n",
      "/kaggle/input/tpu-getting-started/tfrecords-jpeg-331x331/test/01-331x331-462.tfrec\n",
      "/kaggle/input/tpu-getting-started/tfrecords-jpeg-331x331/test/11-331x331-462.tfrec\n",
      "/kaggle/input/tpu-getting-started/tfrecords-jpeg-331x331/test/07-331x331-462.tfrec\n",
      "/kaggle/input/tpu-getting-started/tfrecords-jpeg-331x331/test/08-331x331-462.tfrec\n",
      "/kaggle/input/tpu-getting-started/tfrecords-jpeg-331x331/test/00-331x331-462.tfrec\n",
      "/kaggle/input/tpu-getting-started/tfrecords-jpeg-331x331/test/02-331x331-462.tfrec\n",
      "/kaggle/input/tpu-getting-started/tfrecords-jpeg-331x331/test/15-331x331-452.tfrec\n",
      "/kaggle/input/tpu-getting-started/tfrecords-jpeg-331x331/test/10-331x331-462.tfrec\n",
      "/kaggle/input/tpu-getting-started/tfrecords-jpeg-331x331/test/12-331x331-462.tfrec\n",
      "/kaggle/input/tpu-getting-started/tfrecords-jpeg-331x331/test/06-331x331-462.tfrec\n",
      "/kaggle/input/tpu-getting-started/tfrecords-jpeg-331x331/train/15-331x331-783.tfrec\n",
      "/kaggle/input/tpu-getting-started/tfrecords-jpeg-331x331/train/02-331x331-798.tfrec\n",
      "/kaggle/input/tpu-getting-started/tfrecords-jpeg-331x331/train/14-331x331-798.tfrec\n",
      "/kaggle/input/tpu-getting-started/tfrecords-jpeg-331x331/train/04-331x331-798.tfrec\n",
      "/kaggle/input/tpu-getting-started/tfrecords-jpeg-331x331/train/08-331x331-798.tfrec\n",
      "/kaggle/input/tpu-getting-started/tfrecords-jpeg-331x331/train/12-331x331-798.tfrec\n",
      "/kaggle/input/tpu-getting-started/tfrecords-jpeg-331x331/train/03-331x331-798.tfrec\n",
      "/kaggle/input/tpu-getting-started/tfrecords-jpeg-331x331/train/05-331x331-798.tfrec\n",
      "/kaggle/input/tpu-getting-started/tfrecords-jpeg-331x331/train/00-331x331-798.tfrec\n",
      "/kaggle/input/tpu-getting-started/tfrecords-jpeg-331x331/train/06-331x331-798.tfrec\n",
      "/kaggle/input/tpu-getting-started/tfrecords-jpeg-331x331/train/07-331x331-798.tfrec\n",
      "/kaggle/input/tpu-getting-started/tfrecords-jpeg-331x331/train/09-331x331-798.tfrec\n",
      "/kaggle/input/tpu-getting-started/tfrecords-jpeg-331x331/train/10-331x331-798.tfrec\n",
      "/kaggle/input/tpu-getting-started/tfrecords-jpeg-331x331/train/01-331x331-798.tfrec\n",
      "/kaggle/input/tpu-getting-started/tfrecords-jpeg-331x331/train/13-331x331-798.tfrec\n",
      "/kaggle/input/tpu-getting-started/tfrecords-jpeg-331x331/train/11-331x331-798.tfrec\n",
      "/kaggle/input/tpu-getting-started/tfrecords-jpeg-192x192/val/05-192x192-232.tfrec\n",
      "/kaggle/input/tpu-getting-started/tfrecords-jpeg-192x192/val/07-192x192-232.tfrec\n",
      "/kaggle/input/tpu-getting-started/tfrecords-jpeg-192x192/val/15-192x192-232.tfrec\n",
      "/kaggle/input/tpu-getting-started/tfrecords-jpeg-192x192/val/08-192x192-232.tfrec\n",
      "/kaggle/input/tpu-getting-started/tfrecords-jpeg-192x192/val/06-192x192-232.tfrec\n",
      "/kaggle/input/tpu-getting-started/tfrecords-jpeg-192x192/val/00-192x192-232.tfrec\n",
      "/kaggle/input/tpu-getting-started/tfrecords-jpeg-192x192/val/11-192x192-232.tfrec\n",
      "/kaggle/input/tpu-getting-started/tfrecords-jpeg-192x192/val/04-192x192-232.tfrec\n",
      "/kaggle/input/tpu-getting-started/tfrecords-jpeg-192x192/val/09-192x192-232.tfrec\n",
      "/kaggle/input/tpu-getting-started/tfrecords-jpeg-192x192/val/02-192x192-232.tfrec\n",
      "/kaggle/input/tpu-getting-started/tfrecords-jpeg-192x192/val/10-192x192-232.tfrec\n",
      "/kaggle/input/tpu-getting-started/tfrecords-jpeg-192x192/val/12-192x192-232.tfrec\n",
      "/kaggle/input/tpu-getting-started/tfrecords-jpeg-192x192/val/14-192x192-232.tfrec\n",
      "/kaggle/input/tpu-getting-started/tfrecords-jpeg-192x192/val/13-192x192-232.tfrec\n",
      "/kaggle/input/tpu-getting-started/tfrecords-jpeg-192x192/val/03-192x192-232.tfrec\n",
      "/kaggle/input/tpu-getting-started/tfrecords-jpeg-192x192/val/01-192x192-232.tfrec\n",
      "/kaggle/input/tpu-getting-started/tfrecords-jpeg-192x192/test/06-192x192-462.tfrec\n",
      "/kaggle/input/tpu-getting-started/tfrecords-jpeg-192x192/test/12-192x192-462.tfrec\n",
      "/kaggle/input/tpu-getting-started/tfrecords-jpeg-192x192/test/08-192x192-462.tfrec\n",
      "/kaggle/input/tpu-getting-started/tfrecords-jpeg-192x192/test/07-192x192-462.tfrec\n",
      "/kaggle/input/tpu-getting-started/tfrecords-jpeg-192x192/test/00-192x192-462.tfrec\n",
      "/kaggle/input/tpu-getting-started/tfrecords-jpeg-192x192/test/03-192x192-462.tfrec\n",
      "/kaggle/input/tpu-getting-started/tfrecords-jpeg-192x192/test/13-192x192-462.tfrec\n",
      "/kaggle/input/tpu-getting-started/tfrecords-jpeg-192x192/test/05-192x192-462.tfrec\n",
      "/kaggle/input/tpu-getting-started/tfrecords-jpeg-192x192/test/01-192x192-462.tfrec\n",
      "/kaggle/input/tpu-getting-started/tfrecords-jpeg-192x192/test/14-192x192-462.tfrec\n",
      "/kaggle/input/tpu-getting-started/tfrecords-jpeg-192x192/test/10-192x192-462.tfrec\n",
      "/kaggle/input/tpu-getting-started/tfrecords-jpeg-192x192/test/04-192x192-462.tfrec\n",
      "/kaggle/input/tpu-getting-started/tfrecords-jpeg-192x192/test/15-192x192-452.tfrec\n",
      "/kaggle/input/tpu-getting-started/tfrecords-jpeg-192x192/test/09-192x192-462.tfrec\n",
      "/kaggle/input/tpu-getting-started/tfrecords-jpeg-192x192/test/11-192x192-462.tfrec\n",
      "/kaggle/input/tpu-getting-started/tfrecords-jpeg-192x192/test/02-192x192-462.tfrec\n",
      "/kaggle/input/tpu-getting-started/tfrecords-jpeg-192x192/train/06-192x192-798.tfrec\n",
      "/kaggle/input/tpu-getting-started/tfrecords-jpeg-192x192/train/11-192x192-798.tfrec\n",
      "/kaggle/input/tpu-getting-started/tfrecords-jpeg-192x192/train/12-192x192-798.tfrec\n",
      "/kaggle/input/tpu-getting-started/tfrecords-jpeg-192x192/train/03-192x192-798.tfrec\n",
      "/kaggle/input/tpu-getting-started/tfrecords-jpeg-192x192/train/09-192x192-798.tfrec\n",
      "/kaggle/input/tpu-getting-started/tfrecords-jpeg-192x192/train/08-192x192-798.tfrec\n",
      "/kaggle/input/tpu-getting-started/tfrecords-jpeg-192x192/train/04-192x192-798.tfrec\n",
      "/kaggle/input/tpu-getting-started/tfrecords-jpeg-192x192/train/05-192x192-798.tfrec\n",
      "/kaggle/input/tpu-getting-started/tfrecords-jpeg-192x192/train/14-192x192-798.tfrec\n",
      "/kaggle/input/tpu-getting-started/tfrecords-jpeg-192x192/train/07-192x192-798.tfrec\n",
      "/kaggle/input/tpu-getting-started/tfrecords-jpeg-192x192/train/13-192x192-798.tfrec\n",
      "/kaggle/input/tpu-getting-started/tfrecords-jpeg-192x192/train/15-192x192-783.tfrec\n",
      "/kaggle/input/tpu-getting-started/tfrecords-jpeg-192x192/train/02-192x192-798.tfrec\n",
      "/kaggle/input/tpu-getting-started/tfrecords-jpeg-192x192/train/10-192x192-798.tfrec\n",
      "/kaggle/input/tpu-getting-started/tfrecords-jpeg-192x192/train/01-192x192-798.tfrec\n",
      "/kaggle/input/tpu-getting-started/tfrecords-jpeg-192x192/train/00-192x192-798.tfrec\n",
      "/kaggle/input/tpu-getting-started/tfrecords-jpeg-512x512/val/02-512x512-232.tfrec\n",
      "/kaggle/input/tpu-getting-started/tfrecords-jpeg-512x512/val/12-512x512-232.tfrec\n",
      "/kaggle/input/tpu-getting-started/tfrecords-jpeg-512x512/val/09-512x512-232.tfrec\n",
      "/kaggle/input/tpu-getting-started/tfrecords-jpeg-512x512/val/00-512x512-232.tfrec\n",
      "/kaggle/input/tpu-getting-started/tfrecords-jpeg-512x512/val/13-512x512-232.tfrec\n",
      "/kaggle/input/tpu-getting-started/tfrecords-jpeg-512x512/val/03-512x512-232.tfrec\n",
      "/kaggle/input/tpu-getting-started/tfrecords-jpeg-512x512/val/14-512x512-232.tfrec\n",
      "/kaggle/input/tpu-getting-started/tfrecords-jpeg-512x512/val/04-512x512-232.tfrec\n",
      "/kaggle/input/tpu-getting-started/tfrecords-jpeg-512x512/val/10-512x512-232.tfrec\n",
      "/kaggle/input/tpu-getting-started/tfrecords-jpeg-512x512/val/05-512x512-232.tfrec\n",
      "/kaggle/input/tpu-getting-started/tfrecords-jpeg-512x512/val/08-512x512-232.tfrec\n",
      "/kaggle/input/tpu-getting-started/tfrecords-jpeg-512x512/val/11-512x512-232.tfrec\n",
      "/kaggle/input/tpu-getting-started/tfrecords-jpeg-512x512/val/07-512x512-232.tfrec\n",
      "/kaggle/input/tpu-getting-started/tfrecords-jpeg-512x512/val/15-512x512-232.tfrec\n",
      "/kaggle/input/tpu-getting-started/tfrecords-jpeg-512x512/val/01-512x512-232.tfrec\n",
      "/kaggle/input/tpu-getting-started/tfrecords-jpeg-512x512/val/06-512x512-232.tfrec\n",
      "/kaggle/input/tpu-getting-started/tfrecords-jpeg-512x512/test/15-512x512-452.tfrec\n",
      "/kaggle/input/tpu-getting-started/tfrecords-jpeg-512x512/test/02-512x512-462.tfrec\n",
      "/kaggle/input/tpu-getting-started/tfrecords-jpeg-512x512/test/03-512x512-462.tfrec\n",
      "/kaggle/input/tpu-getting-started/tfrecords-jpeg-512x512/test/01-512x512-462.tfrec\n",
      "/kaggle/input/tpu-getting-started/tfrecords-jpeg-512x512/test/00-512x512-462.tfrec\n",
      "/kaggle/input/tpu-getting-started/tfrecords-jpeg-512x512/test/13-512x512-462.tfrec\n",
      "/kaggle/input/tpu-getting-started/tfrecords-jpeg-512x512/test/07-512x512-462.tfrec\n",
      "/kaggle/input/tpu-getting-started/tfrecords-jpeg-512x512/test/10-512x512-462.tfrec\n",
      "/kaggle/input/tpu-getting-started/tfrecords-jpeg-512x512/test/04-512x512-462.tfrec\n",
      "/kaggle/input/tpu-getting-started/tfrecords-jpeg-512x512/test/14-512x512-462.tfrec\n",
      "/kaggle/input/tpu-getting-started/tfrecords-jpeg-512x512/test/09-512x512-462.tfrec\n",
      "/kaggle/input/tpu-getting-started/tfrecords-jpeg-512x512/test/08-512x512-462.tfrec\n",
      "/kaggle/input/tpu-getting-started/tfrecords-jpeg-512x512/test/11-512x512-462.tfrec\n",
      "/kaggle/input/tpu-getting-started/tfrecords-jpeg-512x512/test/05-512x512-462.tfrec\n",
      "/kaggle/input/tpu-getting-started/tfrecords-jpeg-512x512/test/06-512x512-462.tfrec\n",
      "/kaggle/input/tpu-getting-started/tfrecords-jpeg-512x512/test/12-512x512-462.tfrec\n",
      "/kaggle/input/tpu-getting-started/tfrecords-jpeg-512x512/train/05-512x512-798.tfrec\n",
      "/kaggle/input/tpu-getting-started/tfrecords-jpeg-512x512/train/00-512x512-798.tfrec\n",
      "/kaggle/input/tpu-getting-started/tfrecords-jpeg-512x512/train/11-512x512-798.tfrec\n",
      "/kaggle/input/tpu-getting-started/tfrecords-jpeg-512x512/train/15-512x512-783.tfrec\n",
      "/kaggle/input/tpu-getting-started/tfrecords-jpeg-512x512/train/10-512x512-798.tfrec\n",
      "/kaggle/input/tpu-getting-started/tfrecords-jpeg-512x512/train/12-512x512-798.tfrec\n",
      "/kaggle/input/tpu-getting-started/tfrecords-jpeg-512x512/train/01-512x512-798.tfrec\n",
      "/kaggle/input/tpu-getting-started/tfrecords-jpeg-512x512/train/14-512x512-798.tfrec\n",
      "/kaggle/input/tpu-getting-started/tfrecords-jpeg-512x512/train/13-512x512-798.tfrec\n",
      "/kaggle/input/tpu-getting-started/tfrecords-jpeg-512x512/train/07-512x512-798.tfrec\n",
      "/kaggle/input/tpu-getting-started/tfrecords-jpeg-512x512/train/03-512x512-798.tfrec\n",
      "/kaggle/input/tpu-getting-started/tfrecords-jpeg-512x512/train/06-512x512-798.tfrec\n",
      "/kaggle/input/tpu-getting-started/tfrecords-jpeg-512x512/train/08-512x512-798.tfrec\n",
      "/kaggle/input/tpu-getting-started/tfrecords-jpeg-512x512/train/02-512x512-798.tfrec\n",
      "/kaggle/input/tpu-getting-started/tfrecords-jpeg-512x512/train/09-512x512-798.tfrec\n",
      "/kaggle/input/tpu-getting-started/tfrecords-jpeg-512x512/train/04-512x512-798.tfrec\n"
     ]
    }
   ],
   "source": [
    "# This Python 3 environment comes with many helpful analytics libraries installed\n",
    "# It is defined by the kaggle/python Docker image: https://github.com/kaggle/docker-python\n",
    "# For example, here's several helpful packages to load\n",
    "\n",
    "import numpy as np # linear algebra\n",
    "import pandas as pd # data processing, CSV file I/O (e.g. pd.read_csv)\n",
    "\n",
    "# Input data files are available in the read-only \"../input/\" directory\n",
    "# For example, running this (by clicking run or pressing Shift+Enter) will list all files under the input directory\n",
    "\n",
    "import os\n",
    "for dirname, _, filenames in os.walk('/kaggle/input'):\n",
    "    for filename in filenames:\n",
    "        print(os.path.join(dirname, filename))\n",
    "\n",
    "# You can write up to 20GB to the current directory (/kaggle/working/) that gets preserved as output when you create a version using \"Save & Run All\" \n",
    "# You can also write temporary files to /kaggle/temp/, but they won't be saved outside of the current session"
   ]
  },
  {
   "cell_type": "code",
   "execution_count": 2,
   "id": "eae488a1",
   "metadata": {
    "execution": {
     "iopub.execute_input": "2024-02-29T06:39:01.163445Z",
     "iopub.status.busy": "2024-02-29T06:39:01.162946Z",
     "iopub.status.idle": "2024-02-29T06:39:16.408206Z",
     "shell.execute_reply": "2024-02-29T06:39:16.407224Z"
    },
    "papermill": {
     "duration": 15.25502,
     "end_time": "2024-02-29T06:39:16.410763",
     "exception": false,
     "start_time": "2024-02-29T06:39:01.155743",
     "status": "completed"
    },
    "tags": []
   },
   "outputs": [
    {
     "name": "stderr",
     "output_type": "stream",
     "text": [
      "2024-02-29 06:39:03.534409: E external/local_xla/xla/stream_executor/cuda/cuda_dnn.cc:9261] Unable to register cuDNN factory: Attempting to register factory for plugin cuDNN when one has already been registered\n",
      "2024-02-29 06:39:03.534600: E external/local_xla/xla/stream_executor/cuda/cuda_fft.cc:607] Unable to register cuFFT factory: Attempting to register factory for plugin cuFFT when one has already been registered\n",
      "2024-02-29 06:39:03.715718: E external/local_xla/xla/stream_executor/cuda/cuda_blas.cc:1515] Unable to register cuBLAS factory: Attempting to register factory for plugin cuBLAS when one has already been registered\n"
     ]
    },
    {
     "name": "stdout",
     "output_type": "stream",
     "text": [
      "Tensorflow Version:  2.15.0\n"
     ]
    }
   ],
   "source": [
    "# Import Library and Framework used.\n",
    "\n",
    "import tensorflow as tf\n",
    "print(\"Tensorflow Version: \", tf.__version__)\n",
    "\n",
    "from kaggle_datasets import KaggleDatasets\n",
    "import matplotlib.pyplot as plt\n",
    "import glob"
   ]
  },
  {
   "cell_type": "code",
   "execution_count": 3,
   "id": "1cee25eb",
   "metadata": {
    "execution": {
     "iopub.execute_input": "2024-02-29T06:39:16.426303Z",
     "iopub.status.busy": "2024-02-29T06:39:16.425138Z",
     "iopub.status.idle": "2024-02-29T06:39:16.436083Z",
     "shell.execute_reply": "2024-02-29T06:39:16.434998Z"
    },
    "papermill": {
     "duration": 0.021822,
     "end_time": "2024-02-29T06:39:16.438443",
     "exception": false,
     "start_time": "2024-02-29T06:39:16.416621",
     "status": "completed"
    },
    "tags": []
   },
   "outputs": [
    {
     "name": "stdout",
     "output_type": "stream",
     "text": [
      "REPLICAS:  1\n"
     ]
    }
   ],
   "source": [
    "# Detect and connect to TPU if available, otherwise use default strategy for CPU/GPU\n",
    "try:\n",
    "    tpu = tf.distribute.cluster_resolver.TPUClusterResolver()\n",
    "    print('Running on TPU ', tpu.master())\n",
    "except ValueError:\n",
    "    tpu = None \n",
    "\n",
    "if tpu:\n",
    "    tf.config.experimental_connect_to_cluster(tpu)\n",
    "    tf.tpu.experimental.initialize_tpu_system(tpu)\n",
    "    strategy = tf.distribute.TPUStrategy(tpu)\n",
    "else:\n",
    "    strategy = tf.distribute.get_strategy()\n",
    "\n",
    "print(\"REPLICAS: \", strategy.num_replicas_in_sync)"
   ]
  },
  {
   "cell_type": "code",
   "execution_count": 4,
   "id": "1a9c0f7d",
   "metadata": {
    "execution": {
     "iopub.execute_input": "2024-02-29T06:39:16.452275Z",
     "iopub.status.busy": "2024-02-29T06:39:16.451555Z",
     "iopub.status.idle": "2024-02-29T06:39:16.565821Z",
     "shell.execute_reply": "2024-02-29T06:39:16.564634Z"
    },
    "papermill": {
     "duration": 0.128391,
     "end_time": "2024-02-29T06:39:16.572706",
     "exception": false,
     "start_time": "2024-02-29T06:39:16.444315",
     "status": "completed"
    },
    "tags": []
   },
   "outputs": [
    {
     "name": "stdout",
     "output_type": "stream",
     "text": [
      "features {\n",
      "  feature {\n",
      "    key: \"class\"\n",
      "    value {\n",
      "      int64_list {\n",
      "        value: 12\n",
      "      }\n",
      "    }\n",
      "  }\n",
      "  feature {\n",
      "    key: \"id\"\n",
      "    value {\n",
      "      bytes_list {\n",
      "        value: \"598ee68f2\"\n",
      "      }\n",
      "    }\n",
      "  }\n",
      "  feature {\n",
      "    key: \"image\"\n",
      "    value {\n",
      "      bytes_list {\n",
      "        value: \"\\377\\330\\377\\340\\000\\020JFIF\\000\\001\\001\\001\\001,\\001,\\000\\000\\377\\333\\000C\\000\\002\\001\\001\\001\\001\\001\\002\\001\\001\\001\\002\\002\\002\\002\\002\\004\\003\\002\\002\\002\\002\\005\\004\\004\\003\\004\\006\\005\\006\\006\\006\\005\\006\\006\\006\\007\\t\\010\\006\\007\\t\\007\\006\\006\\010\\013\\010\\t\\n\\n\\n\\n\\n\\006\\010\\013\\014\\013\\n\\014\\t\\n\\n\\n\\377\\333\\000C\\001\\002\\002\\002\\002\\002\\002\\005\\003\\003\\005\\n\\007\\006\\007\\n\\n\\n\\n\\n\\n\\n\\n\\n\\n\\n\\n\\n\\n\\n\\n\\n\\n\\n\\n\\n\\n\\n\\n\\n\\n\\n\\n\\n\\n\\n\\n\\n\\n\\n\\n\\n\\n\\n\\n\\n\\n\\n\\n\\n\\n\\n\\n\\n\\n\\377\\300\\000\\021\\010\\000\\300\\000\\300\\003\\001\\021\\000\\002\\021\\001\\003\\021\\001\\377\\304\\000\\036\\000\\000\\001\\004\\003\\001\\001\\001\\000\\000\\000\\000\\000\\000\\000\\000\\000\\007\\004\\005\\006\\010\\002\\003\\t\\001\\000\\n\\377\\304\\000H\\020\\000\\001\\003\\002\\005\\002\\003\\006\\003\\006\\004\\002\\010\\007\\001\\000\\001\\002\\003\\004\\005\\021\\000\\006\\007\\022!\\0101\\023\\\"A\\t\\024Qaq\\201#2\\221\\025BR\\241\\261\\301\\026$b\\2023C\\n%cr\\222\\321\\341\\361\\0274St\\203\\223\\262\\360\\377\\304\\000\\033\\001\\000\\002\\003\\001\\001\\001\\000\\000\\000\\000\\000\\000\\000\\000\\000\\000\\004\\005\\000\\002\\003\\006\\001\\007\\377\\304\\0001\\021\\000\\002\\002\\002\\001\\004\\001\\003\\003\\004\\002\\002\\003\\001\\000\\000\\001\\002\\000\\003\\004\\021\\022\\005\\023!1A\\\"Qa\\006\\0242#3q\\201\\025B\\221\\241$4C\\261\\377\\332\\000\\014\\003\\001\\000\\002\\021\\003\\021\\000?\\000\\346r\\335H&\\370\\343\\340\\363\\3448\\222\\273\\337\\260\\304\\222o\\016\\244\\2161\\231\\367$\\371+;\\301=\\257\\211$\\334\\227\\222\\007\\002\\370\\222OIJ\\310\\n\\037LYd\\236\\241\\263\\270X\\214Z]=\\305(6\\000\\342Mg\\316\\335\\301a\\211!\\211$,s~1 \\361\\014\\227\\212\\177x[\\022H\\215\\311\\026I$\\342\\343\\324\\241\\367\\023; \\\\m\\376\\270\\332\\277S\\325\\230\\370\\344\\366\\305\\345\\246hp*\\303\\327\\022I\\220p\\'\\313lI\\341\\3652m\\305s\\310\\375q%&\\346_!_\\230v\\304\\232EE\\362Sk\\217\\327\\022I\\201\\220\\022\\010W\\177\\256$\\223C\\217\\221\\346\\270\\375qe\\222k\\336\\2427\\037\\250\\305\\245\\323\\334\\370<J7,s\\2115\\233X7o\\357\\211$\\365\\307\\002\\227\\300\\277\\314\\341|\\036z\\024\\201\\330\\342\\2332M\\255\\274\\233^\\366\\371\\343\\311&\\317\\021\\nE\\267\\375\\355\\211$\\315\\227\\023\\264\\213\\330\\337\\2161$\\207\\036\\216z\\\"\\317\\335e\\267\\232f\\345\\014\\347A\\241\\305\\312t\\3016k\\365\\307\\234O\\215p\\242\\226\\333\\r\\241\\\\\\220\\205\\022M\\200\\267\\307\\033\\323Q\\260\\035K%Mcx\\201\\344\\003\\273b\\266\\356\\035\\366\\033\\217\\261\\365\\037<f\\352T\\352h\\311\\302\\315M\\211\\340X\\342\\2332\\323\\t\\016-\\t\\362\\376\\270\\367fH\\206Z\\366\\213\\236~\\270\\274\\0365J}@\\223\\351\\213\\2005$@\\353\\356-A\\246\\323r\\243`\\000\\275\\361\\252(a\\251V<|\\311\\316\\255t\\305\\257\\032\\027\\224h\\031\\357U4\\356U\\036\\225\\232\\032\\361(\\222_}\\245\\370\\343n\\361t\\241eM\\222\\236@PI \\033v8\\333\\262\\342hV\\332\\327\\223/\\211\\001K\\351\\277\\303\\347\\217\\027\\336\\247\\236\\327\\224\\315\\247M\\212\\222>\\207\\026\\320\\236L\\322\\353\\212<\\216/\\316!\\003RL\\301@\\354qI\\346\\204\\315\\267\\200?\\227\\323\\341\\211=\\233R\\372\\225\\337\\266$\\223\\322\\261k\\336\\370\\222L\\002\\220\\256\\026\\233|\\001\\034\\234Ye\\320\\0032B\\233X\\362v\\266=bu4\\000\\t\\222[\\334,\\007\\030\\256\\314\\366mm\\225\\004\\360O\\353\\211\\263$\\324\\267\\nTv\\250}\\016\\0020y\\203\\257Z\\3267\\372c9&M\\310\\026\\266$\\2234\\310\\027\\003\\022I\\271\\247\\223~x\\304\\222]\\317av}\\225F\\352\\226\\241\\220\\\\|\\010y\\203.<\\207X_!\\3054\\240\\261\\301\\356lW\\206==\\302\\263\\017\\274;\\2472\\376\\350+\\177\\023\\356\\005z\\344\\322J~\\206ua\\234\\264\\366\\217\\r\\021\\351\\355U\\234\\223Ke\\260\\002Q\\035\\340\\034JSoA\\270\\201\\364\\300\\371\\300\\245\\332\\036\\245\\372\\205}\\234\\203\\257_\\020P]\\346\\337>\\370\\020\\022L\\003\\233L\\037v\\347i\\344\\021\\213Oy\\264n\\250:6\\330\\233\\3751\\244\\244d\\230\\375\\211\\003\\343\\215\\220\\003$Y\\246\\364\\'\\363\\206\\243\\320r\\264d\\222\\272\\205b<t\\213z\\255\\304\\247\\373\\340\\212\\223\\372\\232\\023\\317\\377\\000E\\235m\\366\\240\\364\\336\\234\\307\\320\\336iLT%\\351Y\\001\\272l\\350@\\033\\354m\\226\\322\\323\\311\\003\\320lq\\302~\\230l\\325\\377\\000Nv\\035Q\\002\\364\\225p\\'\\035A\\000\\335G\\n\\202\\352\\30393\\240\\200\\t\\232d\\004\\r\\251\\306\\232\\022\\2236\\346mM\\2561\\341\\003RL\\304\\220\\276N)\\241$\\330\\035\\260\\344\\342hI3n@\\n\\026\\305O\\271\\\"\\232c\\321\\027S`M\\214\\343\\315\\027\\223\\342\\262\\322\\266\\251i\\277`}\\t\\307\\240\\0006e\\224\\007<G\\271~z\\373\\351\\037\\245\\354\\237\\354\\377\\000\\310\\375@h\\346\\220I\\312U\\267j\\221\\330\\250\\031\\025\\227d;-\\247Yp\\250:\\026\\242\\235\\301@(\\024\\201n\\001\\301Ei5mG\\230u\\330\\247\\035\\024\\237\\231A\\232\\001=\\310\\355\\351\\333\\000\\206-\\356\\0177\\260w*\\304\\361|ZH\\240\\000\\005\\222\\254I\\341:\\033\\215\\257\\250\\225l\\\"\\337|\\005\\347d\\031\\211VV \\315j\\n\\003\\363\\377\\000,Ry<\\367\\213w\\004|\\316$\\2236\\236\\n7\\361;bI7\\264\\372BlT\\0178\\364\\r\\311-\\337\\261;/\\324\\263\\037^\\231v\\\\\\024\\271\\341R\\351\\323%\\315Z\\033Q\\010i-\\024\\362G`T\\244\\216}H\\301\\230j\\335\\337\\023\\\\r\\347%Q~a/\\333q\\241u\\312>\\252\\323z\\222\\247!\\022(\\225\\346\\r:C\\355\\016X\\220\\322\\326R\\027\\360\\nI\\340\\377\\000\\243\\033\\365\\n[\\226\\343\\256\\265S\\233WcZ\\022\\212*A\\n\\265\\307~lp\\245\\027{&\\\"P\\010;\\230.H\\277\\347\\035\\261iX\\202s\\351U\\205\\375q\\267\\031#,\\347lM\\207s\\215\\325t$\\204>\\206\\351\\252\\314=bi\\325(6\\025\\2775E\\362\\236E\\202\\267\\033\\376\\2303\\034\\206y\\025KZ\\242w\\1777ejV\\2505\\250z7X\\t1\\363E\\036m=.\\332\\340)mmO\\363\\266\\033\\207\\0168\\317\\241g\\342s\\350\\203\\314\\374\\353f\\2325K\\'f\\252\\246N\\255\\264\\246\\246\\322j/B\\230\\332\\205\\266\\272\\322\\312\\026?\\361$\\341]\\211\\253H\\237<\\033\\337\\230\\210H\\004\\333x\\305\\010\\324\\366{\\357\\026U\\267\\343\\311&\\306\\344\\216|\\343\\025\\343$\\332\\231`\\361\\270bq\\222lC\\304\\330\\205\\375\\261B\\276d\\2263\\331\\221\\322\\344\\336\\251\\272\\237\\244e\\307\\340\\227iT\\245{\\375UjI\\330\\020\\216\\311Q\\371\\234kME\\317\\237P\\356\\235Y\\263,\\000%\\327\\366\\350\\346,\\207G\\351o \\351\\366I\\314\\005\\322\\234\\330\\340\\231\\016C\\001\\245\\2546\\303\\304\\270\\200\\t\\334\\330Q\\t\\364\\265\\322=pU\\355RU\\305cN\\262\\217U\\252\\207\\342r\\275\\tP\\003r\\257\\307\\303\\n\\325O\\270\\226mi\\324\\267\\352/~\\330\\264\\202;e\\014\\273P\\316y\\256\\233\\225)\\211&EJkQ\\230JE\\311Z\\324\\0228\\277=\\361$@]\\370\\303\\257\\264K\\245\\310zM\\234\\330\\326\\r;\\245.6P\\315\\262\\\\\\\"\\n\\030!4J\\222M\\337\\247\\253\\320[\\225\\242\\366\\362\\233\\017\\313\\214\\262\\351j\\233\\224w\\372\\223\\244\\335\\203\\237\\277\\3727\\220G\\251Z\\024\\240\\024o\\200\\203ns\\305u\\3635\\250\\2009\\030\\264\\254\\371/\\024\\220\\007l{\\242d\\233\\003\\327\\027$[\\326\\347\\026\\003S\\302u:+\\354\\006\\242\\\"\\005OU5X\\246\\317@\\313\\221\\351\\261\\\\\\036\\212}\\302\\245[\\354\\330\\373`\\3546+\\310\\210\\337\\241\\326.\\352\\n\\014\\271]@iU?\\250\\275\\014\\250\\364\\347\\231\\326\\322f\\327(\\017H\\240IX\\377\\000\\203PiEM\\250_\\326\\340\\003\\362$`\\260\\346\\360A\\235\\317\\\\\\301[\\350-X\\362\\263\\2105\\2505<\\277X\\225A\\255DTy\\220\\244-\\211L/\\273n!E*I\\372\\020F\\024\\330\\205\\034\\211\\363\\002\\030}Q\\033\\322HO\\037\\313\\031\\3612D2\\237+\\027I\\034\\\\\\237\\225\\273\\340\\200\\214~$\\033>\\243T\\247\\367\\r\\300\\334\\036\\304z\\343tR|I,W\\262\\037*\\305\\315\\235|d\\3039\\240\\246i\\256=5I)\\275\\3746\\324A\\375N\\n\\2418\\331\\n\\304\\257\\273\\220\\212=\\356v\\203*H\\227\\023:\\265^crK\\323K\\210\\026\\376%\\236?B0P}[\\251\\365k\\221GM\\354\\237z\\234S\\366\\301dJ&\\233{C\\365\\022\\217\\227YKq\\247\\316b\\250[O\\036\\033\\262\\2434\\373\\251\\377\\000\\366-g\\3561\\345\\340os\\344\\331u\\366\\262\\230J\\316\\037Q6\\007\\237\\256\\006>D\\304\\r\\235M\\210q\\302=?\\\\y\\304\\313p3/\\021\\301\\330\\377\\000<y\\304\\312L\\233\\221\\334\\356\\034w\\307\\215\\364\\313q\\374\\305\\014\\276{\\016I\\355c\\333\\025\\326\\374\\310P\\204\\345;)\\354f\\321w4\\017\\2455j\\014\\266\\032Ni\\324\\351 \\300$]\\310\\324\\361t\\202\\177\\207q\\275\\276\\370\\321,*8\\t\\327\\376\\233\\302fS{x\\013\\347\\314\\223{jz\\031\\245\\352\\357N\\021uSI\\363\\005J^e\\322\\272[\\223\\352\\324R\\332V\\335F\\n\\3745Ky\\001)J\\232[)O\\214Uu\\002\\333k\\340\\033\\020]\\324#R\\017\\314\\017\\253w3-9\\000\\375?\\037y\\306d\\002\\240\\0077\\2677\\026\\302\\236L\\277I\\210\\025\\271\\r\\314\\220\\200\\t\\335\\353\\212\\363\\022\\320\\377\\000\\354\\315\\311\\316g\\236\\272t\\317.\\306\\247\\252R\\327\\231\\231x2\\030.\\356\\r%N\\021\\264w\\374\\243\\237\\226/W\\365N\\204\\'\\000\\247|\\023\\367\\2358\\352_E\\262%~\\257^\\323\\334\\351B\\361r\\246\\177\\202\\207%%\\261e@\\225c\\266S\\002\\306\\3166\\347\\233\\267 \\224\\234\\033\\221\\315\\353\\004\\217\\006}K\\022\\272\\177Pt\\017\\3327\\362\\036A\\374\\375\\247\\0325\\367H3\\026\\202j\\345{H\\2633\\255\\2716\\205=L.K7\\330\\372\\010\\nm\\304\\334\\003\\265HRU\\333\\367\\276XMz\\005:_s\\344\\3318\\207\\0235\\252>\\307\\271\\rZ\\307\\004\\236-\\317\\030\\247\\022 \\307\\334\\324\\267\\224.@6\\370\\342\\303\\324\\362x%(v\\277\\353\\213h\\231R\\t3\\247>\\300\\367\\332\\233\\246\\332\\231Km\\001Euzy\\267\\372v\\272?\\256\\014\\305S\\305\\247G\\372h\\001\\226I\\227C\\250\\030\\365,\\252\\274\\267\\233\\351*(~\\2371IJ\\275\\006\\342\\017\\3668\\201\\370\\017\\367>\\223\\323\\373YV\\275n|h\\316a\\373`\\364\\014\\351\\247Q\\214\\353N^\\203\\341\\3205*\\'\\355X\\341\\244\\020\\206f\\216%5\\307\\037\\230\\241\\177\\357?\\014{\\225Q \\025\\023\\345\\275s\\020\\341\\365\\'R4\\277\\022\\243\\277 \\241\\273\\220F\\004\\340\\302\\'\\226\\257\\330\\367W\\321Z\\227S2\\264\\247Z\\372y\\313y\\362\\026o\\240\\313\\217\\033\\374EF\\023E=LGvB\\226\\332JU\\341\\357Ke\\005\\324\\354Z8PX\\\"\\312e\\210\\374\\217\\221\\r\\304Z\\336\\316\\007\\334\\r{A\\364\\026\\221\\3237Xy\\357Fr\\253n&\\205O\\252\\246N]\\016\\272\\\\R`Ji\\271q\\232R\\224n\\2656\\323\\351l\\250\\222IA\\277 \\342\\367/\\003\\271\\206R\\032n*\\337xB\\366-\\324\\277gu\\337@iNlT\\250\\023\\031j\\342\\367%\\273\\201\\375q\\3469<\\374\\302:q\\326rN\\313\\344\\266\\327:\\265\\0348\\233\\253\\306BE\\207\\255\\307\\003\\033\\002\\r\\302}K \\217\\333\\362\\373\\211\\307\\337n\\256\\223\\352\\236^\\353\\307:j.`\\323\\332\\334:\\014\\247\\251\\321c\\326\\245R\\335n#\\217\\230(ZYK\\312HB\\226P\\205\\250 \\035\\333P\\243k$\\221\\245\\340\\317\\225g\\220\\331\\207R\\227\\241\\245!WZ\\010 \\330\\363\\201A\\007\\324\\030},76\\202@\\335~\\007|{4\\344\\017\\211\\262\\014Y\\025z\\204zU9\\n[\\322^KM!)\\345JR\\202@\\267\\257\\'\\023~u1\\364\\332\\235\\010\\353_\\243\\032f\\210\\3730\\262\\371NT\\247&\\273\\227+t\\371u\\232\\330\\206\\204\\313tMB\\220Y.\\001\\270\\204\\2254lI\\027\\037,h\\350\\n\\354C\\257\\3018\\324\\213>\\014\\243\\232\\021\\247s\\365\\227X2\\306\\226\\323[R\\235\\314\\025\\250\\360\\322\\033\\344\\200\\343\\201$\\375\\205\\377\\000L`\\006\\307\\210-\\033\\261\\202}\\314\\375\\001\\351\\325+.\\344\\034\\323\\2272\\215\\002\\\"\\005>\\232\\250\\324\\312cD](i\\260\\033\\006\\335\\256v\\225\\177\\273\\025\\243M\\223\\347\\324\\372\\300\\306\\354\\364\\221J\\215ll\\231\\235W\\252\\250\\031_\\332V\\236\\226\\263|XK\\201\\\\\\323\\244U\\250\\212}\\244\\222\\374\\2249%\\022c,\\022<T.:\\n\\312=\\003+\\375\\325(\\206\\014\\300\\\\\\027\\342|\\364\\271\\356\\2660>\\007\\251\\310\\337j7E\\257\\364U\\325MK)e\\330\\356\\034\\233\\230\\333Uk$I\\\"\\311\\020]q[\\242\\223\\374q\\334\\nd\\363r\\204\\266\\341\\003\\305\\030\\013>\\236\\'k\\026\\331[\\323w\\026\\225\\331%\\276.\\t\\373\\034-V]\\354\\317\\016\\365\\342\\\\\\357c\\036Rj\\227\\256\\031\\217\\251\\032\\304]\\364\\375;\\313\\353v8Zn\\207\\352\\022w3\\035\\253\\375\\003\\313\\365\\270l\\372\\033\\341\\206\\\"y\\345\\032t\\212\\r\\366hN\\201h\\346\\242R\\372\\231\\351\\003(j\\244u!\\331\\215\\323\\331D\\337U6\\360\\374\\'R\\177\\374\\210\\'\\357\\215\\271\\363\\304S:?\\322\\371vQ\\343r\\210{j\\3640E\\252\\344\\356\\245)\\020\\377\\000\\016\\257\\017\\366\\026`[m\\360%\\305\\033\\231qG\\375q\\310\\034\\372\\267\\205w\\200W\\230\\200\\376\\253\\303\\354e\\013\\224\\177/r\\257\\364\\365\\321\\037U\\275XS\\253\\025^\\235t:\\255\\232\\242PT\\021T\\227\\021M2\\323N\\020\\2332\\225<\\244\\207^\\262\\202\\274$n^\\325\\005m\\333\\3469QE\\267\\r\\217S\\220 \\226\\320\\202\\'\\2674\\024\\323\\350SkJ\\224\\024\\205\\247i\\004\\033\\021lzS\\213\\225\\036u*H_q\\\"\\334\\262\\210U\\370\\370\\014z\\263\\331\\322O\\372<y\\236\\\"s\\036\\244\\345G\\334>3\\364\\3302\\331l\\366\\332\\207\\224\\225\\037\\257\\234`\\252\\033\\2124y\\320\\237\\206T\\351F\\266Q\\231\\256i\\254\\267\\326\\213\\252(\\0177d\\337\\224\\237\\374\\261\\212\\236GFw=:\\363^I\\374\\312\\331\\326V\\207@\\352\\223\\241\\\\\\307\\220!DK\\331\\227\\'n\\257\\345w\\200\\363\\237\\r\\'\\306d|B\\333\\334-\\364\\370`\\332\\330[Q\\374@?V\\340r\\257\\272\\243s\\213\\344\\027F\\353\\233\\021\\300\\371`c>s\\353\\314\\267^\\305\\230\\360Q\\326\\202\\336\\230\\351K\\310\\3115_qN\\337\\314\\342\\203IP\\277\\247\\341)\\323\\364\\007\\033b{\\324e\\322PY\\2367\\014^\\336\\235\\000\\221R\\312Zo\\325\\2255\\205Y\\014\\271\\223\\363\\nR\\310\\033T\\332\\236\\231\\r\\345(rJ\\322\\271\\215\\222{&3V<\\333\\005e\\r\\201\\250_\\\\\\306\\013y\\\"U\\317e5*t\\256\\275\\262\\n)\\357\\226\\324\\212\\202\\226\\265\\003\\373\\201\\265_\\372\\377\\000LaI\\035\\310\\277\\023\\306H3\\276\\272E\\246\\3175\\\\9\\236\\251\\014\\263\\021\\231k0\\226\\343J\\\"C\\236}\\245 ~\\352H$\\253\\265\\322\\006\\017\\307\\244\\275\\273\\\"v\\035K\\251\\212\\361UT\\371\\324\\035{E:I\\314\\335y\\364\\215\\2304\\032}U\\244\\346!\\\"=K(9Vm(b\\035A\\225Xn[h%!m)\\326J\\254v\\211\\n&\\300\\0331\\277\\035J\\231\\30496\\222\\347\\334\\374\\372\\365\\033\\322\\366\\266\\364\\233\\251rt\\203_\\2623\\364*\\354P\\203\\341-\\346\\336fBT\\332\\035\\013e\\346\\224\\246\\237N\\307\\020w6\\245\\001\\273\\233a\\023\\243\\327\\277\\023\\020\\301\\206\\314\\200\\277\\tmnII\\004\\022\\024\\010\\354}F1\\026\\371\\236\\256\\367,o\\262w\\247\\201\\324\\'Z\\271Z\\213R\\205\\342R\\350\\217\\232\\265P\\224]!\\266<\\300\\036=Ua\\215\\250\\376\\245\\2333|j\\373\\266\\316\\234\\373`\\362\\244\\231\\376\\313\\274\\377\\000\\250\\223\\345DCS\\263E9\\350q\\003\\303\\307Lt\\316C)p\\247\\367Sp@\\372`\\203\\341\\014s\\326\\017\\034EQ\\352s\\337\\330u\\244K\\317=Y=\\251\\223#\\251P\\362M%\\331\\211\\'\\267\\275;\\370L\\017\\250Q*\\373`Vn4\\356c\\320\\361FF_\\370\\235]\\247\\370\\023u\\207.\\323#\\376qP+P\\355p\\000H?\\251?\\246\\005\\351\\316]\\2113\\352\\027\\177\\365H\\373\\t\\317?n\\206\\247\\346,\\207\\355%\\241\\347\\014\\211Yr\\r_+\\345zk\\364\\371\\214.\\312bB\\037}\\344+\\347\\371\\205\\322n\\024\\t\\004\\020p\\303%\\2700i\\362L\\2275g3\\017\\274\\261\\375dR\\250\\276\\323\\177eu7\\250<\\243IRs>K\\212\\274\\313\\006\\033L\\205\\2546\\201\\340\\325\\340\\205\\0370BCjy\\'\\272\\375\\321\\256.\\274h?\\257N\\3417\\327\\335\\307\\027\\017s\\222M% \\013YE*\\356>G\\276\\023p\\006\\322\\202,c\\343\\304\\354\\'O\\2752\\177\\360CE4\\333\\245\\350\\260Lz\\245i\\310\\325\\234\\364\\247Q\\265\\327*2\\202T\\343n\\016\\366\\214\\315\\243\\001\\332\\354\\251@\\r\\306\\355\\221BW\\241;.\\223\\2161\\361\\373\\247\\346\\005}\\210Z\\3212\\253O\\315\\3758\\324*^GR\\232\\2255\\267Uq\\265d\\266\\370H\\277\\241\\360\\325\\362\\2718S\\323\\356\\332\\224\\374E\\035\\027 S~\\314\\261\\235Wh\\032u\\343\\247\\014\\353\\243R\\333\\274\\357s5*\\022M\\256\\232\\204[\\255\\260/\\374`\\026\\317\\311^\\275\\2617\\377\\000I\\335u|_\\371.\\227\\315%T\\366Gu/#)\\350\\236z\\351b\\273\\\\\\231G\\205Q\\252\\311r\\244\\272o\\371y\\261X\\235\\021\\020\\234\\224\\313\\274\\2248\\322\\332O\\232\\307iq\\256\\t6\\301}6\\376\\025\\265_y\\303tlj\\032\\307\\252\\337\\345\\361\\035\\272A\\350U\\356\\235\\272\\225\\324>\\230u~\\005>\\267\\017=\\344)\\017d,\\322\\303m\\272\\212\\244\\017\\031I\\361ZQ\\335\\341<\\023\\371\\333\\271Sk\\267\\346\\005*T\\030\\275\\213\\013}\\342\\347\\351\\256\\231\\242\\273\\275|J\\027\\3257N\\331\\243\\246=_\\251i\\206b\\013q\\266\\017\\213L\\232\\244\\355\\022\\243+\\362,_\\213\\366J\\200\\354\\240p+\\257\\026\\202dc\\331\\215qW\\377\\000_\\342\\036=\\210\\231\\322NU\\353v\\r\\017\\304\\2635\\352$\\270kA&\\312XHu\\037\\315\\007\\365\\304_F\\025\\323[\\216@\\235\\242\\315L\\031\\271\\022\\247OG\\374\\310.\\000\\177\\333|P\\215\\223;\\312~\\233U\\240WH\\253\\254Q\\353\\261\\234x$\\262\\277\\302\\222\\035\\266\\322\\205X\\020A\\364\\304\\305\\277\\215\\232\\235Fe\\037\\271\\301+\\367\\023\\220\\275u\\350;\\3358\\365W\\2344\\305\\230\\3050\\032\\252.U\\031e\\005;\\341\\275\\370\\255\\021q\\350\\025\\267\\352\\203\\202o\\034>\\271\\361\\\\\\272\\2736:~a_\\330\\317\\236r\\226H\\353j\\234\\336j\\214\\202\\355v\\201:\\225F\\222\\267HK\\023V\\020\\352F\\320\\016\\362\\342X\\\\t\\216<\\322\\022o\\350t\\304\\376\\354\\277N~\\326P\\235=\\366\\204h\\016k\\352;\\331\\345\\236\\364\\277G2\\253\\365\\354\\310\\375B\\2176\\205G\\206\\222\\267\\237y\\025\\030\\351s`\\355\\273\\300[\\337\\001b\\253\\220\\t\\263\\247\\251l\\254\\205\\367\\034uf\\3447\\\"\\376\\312?b]\\023\\2429\\322\\272\\242\\352\\366\\275O\\254\\346x\\020\\337\\024\\212-\\\"B\\335\\247\\322\\331\\tH/-e(S\\262I\\nHH\\362%;\\210\\n$(\\017\\213\\206\\2506\\376\\3479Oql$K\\365\\\"\\255Tr\\024*\\332hL0\\344\\252{\\322\\336\\214\\034QS\\014\\241\\027m\\264#\\224\\202\\023`\\240\\007\\374E\\021\\363\\303\\200\\024\\017\\023\\333,k\\033\\314m\\252T\\315]\\232\\213pQ&jQ\\005\\025\\nO\\200\\244\\002\\342\\224\\016\\326\\202\\266\\360J\\333\\270\\343\\376e\\276\\276\\310\\207\\314\\202\\353^\\223d^\\254t&\\253\\243\\332\\203I][-\\347V}\\325*\\337\\341\\311\\2406\\343am\\273\\265B\\350[/\\006\\326\\222lS\\341\\242\\343\\311\\315]U\\227FY\\250\\34478m\\355J\\366UW: \\317\\324ei*+Y\\247\\'\\3252\\337\\275\\275RDC%T\\311Q\\203M\\316C\\352\\216\\312\\020\\333)[\\255\\251\\265\\251 lt$\\222P\\243\\216w7\\r\\252nK\\352S\\227o\\304<{\\007t\\205\\374\\251\\246\\331\\337]\\325\\031\\\"uvT|\\273DZ\\323\\315\\326\\241\\271I\\372_\\2221\\355\\037\\332\\215\\272%]\\314\\2318\\366\\216\\352*5\\027Iu\\313N\\341S\\320r\\356_\\3110\\2146\\367Y@\\305\\250\\307\\360]\\n\\344\\336\\351\\n7\\357\\270\\337\\275\\361\\256G\\361\\216\\372\\246/.\\233\\313\\363\\031\\375\\211:0\\306\\234\\364\\247+S\\346\\247l\\374\\337W[\\227Ry\\021\\230\\001\\010\\037\\037\\316V\\177\\333\\204\\371w\\360P\\260\\217\\322\\270\\337Qii4\\352A\\250k\\3152S\\210?\\345YQ6=\\325u/\\373\\214\\023\\323\\352\\3427;l\\224\\327Mc\\3713\\226\\236\\333,\\3003\\037\\264k9%\\240v\\301\\205K\\216\\233\\377\\000\\366\\0149\\375\\\\8\\333)\\271\\177\\251\\361\\234\\306\\345k\\376%\\255\\377\\000\\243\\371\\251\\354\\325t\\2636h\\345\\\\\\264\\373T|\\300\\334\\327c\\310\\027J\\340Nc\\303u\\260\\t\\363 *:\\312\\270\\260\\361~x\\230\\327\\354\\005\\374\\306\\3753\\377\\000\\221\\214S\\361+\\346\\231t,4\\307\\332\\365D\\351?9\\323\\324\\365\\022\\213\\234MU\\244\\275g\\2236\\211\\025\\225\\324\\230\\336Jl\\257\\0223HB\\305\\215\\224\\265\\247\\272N<Zxg\\023\\026UF\\262J\\376gKr\\215m\\352\\366\\273\\214\\3259\\345\\311ur\\\\y\\371J\\260)V\\325\\223\\337\\200\\005\\210\\373`\\244\\376fv\\366/k\\004N9t!\\255k\\320^\\252\\362\\236w~W\\205\\tU$\\301\\252\\222\\253$\\306\\177\\360\\327\\177\\205\\256\\017\\373F9\\272\\367E\\3723\\213\\250vm\\235\\253\\252C\\220\\315e5\\250n\\202\\343n\\203\\270\\016\\027`9\\377\\000rH?|m\\177\\213|O\\242\\364\\334\\301f\\036\\267\\342s\\023\\256--\\223\\320\\307\\\\\\364\\315t\\313\\320\\024\\336N\\316\\216\\256r\\220\\332n\\237\\005\\3337P\\210;\\215\\343r\\326\\233\\360\\024\\244\\236\\311\\2763]\\327\\220\\014\\344\\272\\2456au\\025\\264\\rK\\313\\323\\340\\246\\327\\363];Ns<\\310\\317H\\242U\\2273&\\326\\236\\034\\304\\225\\312U\\265C\\376L\\206\\274\\212\\007\\216[Wt\\014tk`\\337\\237\\230\\337\\250T\\275C\\247-\\351\\356\\n\\375\\257\\275!\\267\\253\\231J}^\\221I\\360s6_\\210\\355V\\220\\204\\266B\\344\\307\\037\\374\\3342?\\211\\'\\361\\022=\\np&]a\\017\\371\\212\\363\\361\\017S\\351\\312\\303\\371$\\241\\336\\312Z\\334\\034\\245\\327\\306\\237\\275=\\253\\246UMp\\324J\\200\\014\\227[[{\\315\\315\\200I<\\223\\375p\\255v\\326\\361\\210h\\026-\\201\\300\\365;\\303\\230hMC\\361\\350\\215\\314C\\351t)\\264\\274\\233\\201b\\236\\374\\363\\217r\\217\\355\\230nv8\\231e\\300\\334\\254t\\227#A\\314\\322r\\322\\207\\343\\2627\\257\\375#yH\\277\\334`+>\\222\\017\\336w\\330\\272\\267\\036W\\337l\\216\\236\\344\\374\\353\\243\\324}_\\201\\226\\213\\371\\242\\2315\\232uV\\244\\335\\311D\\0246\\352\\223\\277\\345\\271\\300~\\270\\231\\231\\326\\177\\310\\327R\\371\\3618O\\324\\2353\\267\\267A\\n\\036\\305\\235\\005\\312Z\\031\\244\\253sW4\\311Q3\\266\\242%\\312\\255*UR\\031D\\206iq\\202\\025\\031,\\205\\266KE\\342d:\\024\\007\\231>\\017 \\200q\\322\\364\\361\\332\\372l\\3678\\234|k\\233\\372\\240K\\207\\247\\231\\256N\\234\\352\\214\\274\\250\\343\\3570\\302&;\\035\\2626\\205%\\265\\366\\357\\300!+\\277\\333\\267\\246\\030s\\024Y\\376gGe\\007\\'\\246r\\327\\230kje\\n\\270%dI\\221S.\\034\\024\\355\\r<\\r\\234i\\246\\231<\\354P*QqJ\\271\\365\\261\\370\\333\\014\\323\\213.\\347)b\\232\\337S\\334\\243\\232\\020\\272\\013\\317\\324YKo\\323W\\356\\322Zq\\275\\312\\261\\t;~\\235\\225\\352?\\014q\\213\\031\\224\\037\\312sP\\364\\343L\\253\\022D5Hv\\217T[\\320!4\\311q\\343\\025\\211Jy\\213\\001{\\2255\\341&\\300\\023`\\017\\307\\036\\017r\\351\\356?\\303\\213[\\237\\234\\242\\352~M\\314M\\256\\211V\\245x\\223[K\\342\\363\\335\\033T\\323\\210\\tOu#v\\353\\224\\334\\004\\367\\347\\026\\320\\232\\354\\304\\265\\232\\265\\\"\\265Q\\225\\246\\325\\332\\233)\\240f\\306\\023\\356\\267\\247\\263!\\005\\322?\\031\\207\\320\\341\\263\\254\\272\\203\\264\\247i\\270+I)\\272Rq\\265C\\r\\0314\\t\\363#un\\234t/\\246\\335\\030VU\\320\\2758\\243\\345\\374\\277M\\226\\374\\303\\0261R\\227\\026Y\\004\\241\\326\\226\\353\\216-\\003\\277\\220\\233\\000\\000\\027\\266\\007\\263\\032\\261_\\210_M-^W\\3219\\305W\\310U=i\\310:\\361B\\313p\\374y\\365\\234\\272`\\304@M\\374\\313\\237\\034\\017\\320\\\\\\375\\260\\275H\\356\\263\\037@N\\243\\253\\2537M\\256\\241\\354\\231`\\264C#Q\\264\\237F2\\326\\226e\\367Z\\360\\251\\024\\321\\025Nn\\334\\225\\272\\213\\370\\252\\373\\257v8\\354\\374\\220\\327\\217\\363:\\036\\223\\210p\\251P~\\322U\\244T\\366[\\325f\\352\\007bJx\\363\\033rE\\261\\321\\3438(\\030}\\243>\\242\\254zq\\002q\\373\\332\\213\\\"uw\\257\\275N\\255Jaio\\374@\\030m\\325~]\\254\\306i\\264\\213\\377\\000\\335n\\366\\357lec\\265\\244\\205\\237\\\"\\310\\240\\327i\\337\\314\\265\\336\\304~\\234\\265o$L\\207\\324\\235+3ew\\3509\\336\\237>\\2136\\206\\343\\262\\305F\\023Q\\344%\\304I\\004\\264\\031$\\310\\215\\341\\3308\\242\\022\\351\\340\\033\\201\\242bn\\260\\303\\334\\327\\006\\323V@\\227\\343Yt\\017O\\306z\\205\\326T\\370\\214\\014\\303\\227\\262,\\354\\260\\310B9t\\312}\\225\\260\\3607\\341M\\264\\251\\355\\362\\r\\323.\\337\\272,y\\327d\\237\\221\\031\\2467\\177\\251\\215J\\345\\236u\\202\\245\\244\\372\\001\\251\\232\\301\\\"2\\003\\364\\234\\264\\270\\364\\327\\024B\\177\\315Hq,3\\310\\370\\225\\023\\361\\260<s\\200\\215\\236#\\256\\266R\\2340\\233\\224g\\332\\273\\322\\274m\\005\\327V\\365\\207Oi\\311c\\\"\\352;\\257T\\250\\3022\\227\\266\\2374\\024\\252l\\036mm\\2168\\035l\\003o\\t\\346\\322.P\\254/\\315\\307\\331\\356)\\234\\307U\\304\\267\\026\\366\\373N\\230\\364w\\252\\261\\265\\323\\246<\\215\\251~\\362\\034\\225>\\202\\210U \\017\\345\\233\\024xj\\277\\375\\340\\203\\372\\214a\\220\\343\\2127\\311\\216\\272=\\304cq\\036\\342N\\272:K\\203\\325\\227Kum=\\201\\032\\365\\312B\\325U\\313\\017\\250\\362\\231H\\027-|v\\270\\235\\310#\\267\\230\\037L`]\\231\\267\\014\\352\\333\\313\\247m\\344\\210\\021\\320\\\\\\325R\\252hN\\232\\352-V\\224\\270s\\225\\227\\221M\\250 \\253\\316$\\323\\334\\\\\\027\\n\\307p\\245{\\266\\342\\017\\2518\\177\\216\\334\\361\\324\\374\\315?N\\203e\\rM\\236e\\325\\245\\273\\247\\232\\347\\223\\362\\346t\\317\\024\\007\\246\\316aF+\\263\\033\\224\\266\\374\\t\\001\\262\\224\\274\\240\\225\\000\\346\\364\\033\\251*\\340\\251\\265\\023{\\340\\355Ux\\372\\206\\364\\\"\\334\\265\\312\\301\\265\\252S\\240g&\\372\\237\\351\\363Nt+X\\021/,\\\"3J\\177V\\342\\217\\005\\013\\036$\\020|tHa\\nI\\270l8\\321X\\002\\327J\\221\\3521\\310\\344d\\032:\\200\\013\\353\\314\\337+\\002\\274N\\226\\226\\001\\262\\314\\007\\376w\\271\\330\\252]f\\211\\23235\\0030\\322$G\\233\\001\\372*\\2341\\322l|\\301\\nC\\227\\007\\261C\\200}@\\301W\\257\\357\\255\\307b|0;\\213\\226\\366\\246\\253<\\177\\026\\361\\000\\332\\235\\2455j\\026\\244fL\\377\\000\\227\\210\\227\\002\\r%\\267\\344\\006G-$\\272\\351\\363$\\363\\334\\016~\\270\\3237\\014\\2134\\276\\207\\304\\353:/[Kq\\226\\247:\\'\\306\\346Z+\\247:\\177\\325=\\0136\\3215\\002\\214de\\224\\256\\236\\364\\304\\270\\237$\\224yV\\343IP7J\\274\\233;q\\273\\364\\017\\244\\341]\\223\\324{\\226\\017^\\247\\277\\251\\363k\\307U@\\333\\004M\\235jf\\2074o\\250l\\221Z\\216\\372\\204\\226\\\"\\245\\307R\\010@e~ Qi!<\\004$\\004$\\017@\\220=1\\322u j\\275\\010\\364g=\\320\\353\\027\\343:0\\334\\235\\353\\215f$\\354\\367J\\317\\264\\305\\331\\232\\2556<\\304\\220\\177x\\244\\244\\330\\217\\232\\017\\351\\215s\\031O\\022\\260\\376\\231Il{*\\177\\3147d\\374\\355O\\223M\\245M\\246Q\\243.S\\364e\\2776I@\\335p\\363m\\250\\025\\002\\024\\1778W\\302\\326\\303L+\\r\\211\\346q}G\\035\\252\\274\\306*Nk\\205\\'-g\\031,\\245(\\224\\365NS`\\202|\\266m!)\\034\\220-\\350{\\363\\202\\275\\223\\270\\'\\025\\320\\231H\\325)\\215\\352\\025\\005\\310\\t\\225\\036\\006j\\240\\252K*l\\233\\005\\243\\303q\\027#\\262\\212%$}\\0318\\367@H\\000\\022\\t\\247:\\205]\\240\\320u\\007.Cn2\\352Zi\\230^[\\024\\2171Z\\340\\244\\231\\021\\302[\\265\\2100\\224\\022\\024|\\245@\\216m\\217g\\262Q\\235\\263T-J\\2475K\\313S\\230\\331R\\2475T\\312\\262P\\264\\246:]J\\222\\024\\332\\202F\\321\\371\\333P\\370\\370\\267\\035\\257\\2178\\251>d\\221N\\260u2\\251\\225t\\226>\\\\\\253G\\204\\325^|\\004\\275R\\367\\005\\0256\\220\\002\\212\\020\\024@\\334E\\325u[\\315\\301\\300\\031o\\304hG\\375\\007\\004\\331\\221\\313^%q\\366`G5\\255J\\3150&BD\\30123\\3121\\235Z\\222\\227\\r\\202\\222\\222\\244\\220SuY7\\007\\203\\316\\026\\322E\\204\\217\\274\\350:\\342\\n\\261\\221\\276A\\223J\\256C\\177F\\330\\221!\\311\\217H\\243)\\347\\337\\247=(\\222\\344v\\312\\300S\\016\\361\\313\\215\\250\\255?\\352\\t\\007\\343\\216S\\256t\\347\\305nj<\\023\\343\\361\\031\\364\\276\\243^u\\001\\\\\\375J<\\376c\\233Y\\007P\\362k\\361u\\016L\\250S\\340O\\314PK\\016\\322\\026^\\360\\332[\\211m(Z\\026\\022\\240\\253\\222\\025`G=\\370\\341\\305u\\\\\\230hT\\371\\\"{\\177W\\256\\372\\2167\\243\\367\\223x\\232\\033\\222\\237\\351\\372\\273\\220g\\344jJ*\\371\\252UE\\374\\317U}\\244:\\272z\\335\\013\\212\\374\\244\\225\\244\\244\\255\\270\\204\\251\\034p\\243n\\347\\0140\\221\\026\\246,<\\374\\316\\007\\250Wc\\332\\020\\037;\\200Jvs\\311\\031_-j%WL\\262\\307\\370k-d<\\204)yU\\212p\\026\\202\\316\\3732\\273\\023\\312\\271.\\255F\\352Z\\312\\224\\253\\225\\022p|\\221P$z\\215k\\351*\\366\\325H\\032f#\\314\\226T\\365\\3238jOI\\331\\\"\\243\\232iI\\201W\\314Q\\005N\\242\\310\\341.\\013\\251\\246\\337Bmt\\241\\320\\205>\\224\\363d\\270\\221\\310\\261\\304|\\2168\\200\\375\\343\\374.\\226\\325u;*o&\\261\\275\\375\\3456\\366\\242j\\033\\031_\\246\\274\\275\\245\\360\\344\\255\\022\\263vb\\\\\\367ZH\\374\\321a\\243`\\335k\\177\\315u\\004|v\\340?\\250\\216_\\023\\234\\375Go+\\n\\217\\211h53\\247\\250]Vh&j\\351_2\\\"<Z\\304\\204\\tYFl\\344\\245\\\"\\235Xh(\\307QY\\004\\266\\332\\367.;\\212\\000\\331\\267\\334\\343\\201j\\367\\024\\377\\000I\\214\\350:\\265\\013\\225\\215\\261\\357R\\265{\\025\\265~\\271\\227d\\347\\256\\222\\263\\303/\\302\\253P\\246\\252\\265M\\247KIC\\255H\\214\\277\\016d}\\247\\262\\206\\301\\307\\307v\\027\\334\\205T\\213<q\\3659N\\227kS\\223\\333oS\\245\\364\\251P\\243C54:\\023\\034\\263\\343\\266\\347\\246\\315\\267\\277\\351\\177\\2460\\256\\316cs\\240\\372\\230\\225\\200mu\\310\\024:%>[\\271Ym\\246\\237*\\253\\373h\\264\\313@\\\"?\\275\\245a\\304\\243\\344\\247ZS\\307\\201\\346x\\237\\226\\037\\340>\\353\\320\\204t\\260\\330\\231g\\363\\037zB\\314\\313n\\\\\\235:\\221PQEU\\244\\230\\316v\\001\\300\\260\\264\\037\\220$\\024+\\344\\265\\016/\\306\\364X\\374\\2101\\267\\\\\\305\\375\\316?0<\\300\\237Z\\032`\\356\\261i\\2535\\334\\265\\220\\304\\232\\243\\215\\307\\025*\\204\\307P\\330\\245\\316D\\340\\210\\362\\036$\\335%Hqh+\\000\\363\\266\\375\\360\\247+\\tZ\\342\\303\\347q6\\013\\033q\\373\\031\\037\\004\\025\\377\\000#q\\223\\243M_\\326\\035&FZ\\313\\031\\3232\\007jT\\370I\\246\\325i\\362\\006\\342\\322\\034a\\327\\330JT\\t\\nXK%%^\\244$r0\\036\\025\\214\\n\\250?\\303`\\177\\270\\305\\272e\\017M\\206\\337\\004\\354\\370\\226\\357Cj\\371\\273;k\\365b\\251Q\\246\\261R\\247T!C\\247\\324^1V\\226\\032d4\\245\\225(\\333j\\202\\303\\247h\\356y\\303\\374;\\r\\331M\\312ry8\\302\\2140\\325\\237\\2317\\257f|\\201\\242\\372\\177_\\252\\344L\\247D\\201A\\310pg\\317\\221O\\245Ei\\243)\\370L(\\241\\016\\354\\037\\230\\354E\\311<\\370\\200\\343\\241\\306\\256\\272\\217%\\021NCY\\224Gp\\223\\251U=\\245\\025\\264W\\316O\\324\\010\\357<\\221=/\\277\\031\\331\\014\\355QiO,4\\253\\036|\\311@P\\2776_\\302\\330S\\325\\210\\262\\264a:\\217\\323c\\206C\\241\\223l\\241\\230?\\307=<\\345\\254\\310^\\336\\365%\\325\\323\\344\\200;!i\\361\\033\\037\\370\\203\\277kc\\027$\\3245\\033\\343\\201NcW\\360w\\016:7\\233\\351\\024\\355\\035\\235S\\254\\013\\256\\n\\332e\\227\\217%!\\345\\240\\021\\364*m\\003\\007t\\333\\302Rw\\3619\\237\\324\\024\\021x\\343\\363\\031(\\265\\304\\307\\322\\354\\3655\\341\\261\\301[K\\215\\0229\\345\\246\\324O\\352p\\341\\035Ma\\376\\363\\233jl\\026\\004Y2\\313\\231\\315\\272\\036Z\\3235\\302x\\241\\232\\315)\\210\\217-\\007\\313\\270AK\\210?BQ\\267\\217\\210\\307\\245\\227\\342iv;Sw\\003\\366\\202\\374\\303SoKz\\367\\313\\271\\300R\\344\\030Y\\356\\234\\274\\261Z\\220@-7&\\\"\\334\\\\g\\035\\007\\261ZB[J\\210\\265\\336@<(c\\316r\\235\\262}F\\376\\237\\245\\347\\334\\213\\017R\\3722\\245KKu\\\\\\223&S\\331\\n2\\236Pnu-\\320\\247i\\301@\\233\\217\\014xL\\225\\022H\\tG=\\255\\3479\\341M\\372\\220\\016\\272\\363\\232\\344T\\237\\244\\242\\240\\271\\n\\216\\307\\273%\\322o\\271(F\\322\\257\\276\\333\\341&]\\244\\331\\306}\\027\\364\\3361Z\\003\\021\\346G=\\227\\263\\\"\\322s\\234\\352\\343\\223V\\302\\027\\t\\364\\007\\022A-)+H\\354/\\273\\376 \\343\\324\\014S\\007\\266\\226\\236_\\023O\\324\\270\\374\\361\\224,\\264y\\246\\233\\2235\\263&?O\\231EL\\270\\265\\330\\251EN\\236\\207\\024\\331z\\350\\005+A\\n\\033V\\005\\212\\024\\r\\310\\262\\177t\\\\\\313\\005yx\\347\\220\\360g\\023Y\\267\\023 \\252\\231\\004\\322\\031\\331{K(f\\221\\232\\252\\255\\315\\225B\\247\\26512\\n\\355\\357\\216\\251\\367\\324\\205[\\2179\\000\\037\\221\\035\\270\\3005\\024\\246\\276\\004\\303\\363\\022\\333\\370\\265~\\376dsT\\365\\034en\\235j\\225\\370Y\\235\\331\\316\\347\\251\\362\\246\\0277\\331,D\\013J\\026\\332?\\322\\\\h\\200~\\000\\374q\\3437n\\246\\343\\3635\\300\\305ks\\202?\\241\\363\\002Z5\\223\\236\\324\\256\\212\\363}\\006,\\315\\265\\235J\\314\\214R\\240\\272\\367(H2|;\\367\\034\\000V\\257\\220o\\261\\302|\\232\\215\\230\\300~Dq\\220\\314s\\366<q\\036$\\347X\\337\\247\\275Wo+\\345d\\270\\305.\\221\\035\\232e%\\233\\333\\303\\207\\035\\240\\313(\\0370\\332\\022\\t>\\274\\342\\271\\305k\\245k\\334qU\\246\\252\\231\\317\\362?\\373\\221\\316\\265\\372\\031\\240\\353\\206N\\322\\254\\373I\\240N\\235#$T\\034\\205\\232\\351\\360c\\251\\345J\\202\\342T\\365\\266\\246\\352\\337\\357\\tCI\\340\\203\\357Gw\\000a\\230\\240>\\030)\\356r\\217\\200r\\372\\260\\026\\370R~!\\257Uk\\271_M3\\345+;\\324h\\311v\\213^t4\\356`\\013XU9\\305n\\010p\\266\\202l\\332\\235\\010C\\211P$\\027M\\273\\002\\252~\\336\\266\\004\\374\\315r\\256\\311\\242\\336$x\\224\\353\\3327\\220*\\035,\\373F4\\303\\256l\\263=Ph9\\362\\261\\002\\016v\\236\\343\\205q\\343\\314\\262\\030\\222\\263}\\251\\360\\336\\203\\261\\3407]n2\\372\\211\\354p\\r\\353\\336u\\007\\343\\337\\346 \\312\\034.\\357\\017\\022\\332j\\356`\\23445\\312&\\202\\347\\032^q\\230\\363\\001\\212Ctz\\223j\\230\\032}\\361\\r\\013\\360\\357e\\204\\227\\322\\241\\260\\252\\3418\\035\\272q\\307\\004\\006\\336\\347C\\207\\225U\\204;x\\022\\n\\336|n\\006\\231d\\2556\\316\\346\\371\\206\\277\\222\\250l\\255\\227\\010\\n\\005\\021\\352\\257\\207\\tQ\\271\\334#6\\200\\r\\211R\\355\\307l\\025\\202\\255\\212\\301\\037\\3463\\261\\373\\255\\336\\254x\\210\\364\\262\\255\\373&\\260\\333I\\221\\265\\370R\\001iiW!C\\270\\004w\\027\\270\\373`\\324`-3\\241u6c\\006\\337\\304I\\325\\316m9oP\\004F)s\\277c\\352&\\\\S\\350\\014\\254\\224\\252\\255\\r\\327\\345\\274\\247\\022\\221t\\244\\224\\244\\333\\236\\341 X\\\\\\341s\\263\\333\\333_\\235\\371\\210\\r!U\\337\\345}F\\255R\\310\\264\\354\\253\\324~]\\237\\234\\000\\201Mr|8\\216\\370NlR\\34475\\206\\022\\336\\340\\233\\001\\262IV\\365Y)\\010\\265\\371\\307\\t\\211nf6U\\252A:3lL\\203\\231\\203b\\357\\352\\000\\303\\036D\\325|\\251\\223z\\271\\231H\\212)\\252\\202\\326\\232E\\235\\003\\334\\036C\\255\\304q/Md!\\n\\034\\330\\204(\\0028Q\\004\\334\\3558\\353?O\\330\\366\\344\\027\\336\\367\\361\\021\\345\\325btpJ\\371\\334\\210k~\\177\\237\\224z{\\324y\\365\\265E\\247F\\314y\\226\\245\\032\\240\\271\\261\\375\\345&\\033\\231|)\\240\\266\\320\\tmJR\\333)\\026\\270/)F\\333o\\203\\263\\272\\211L\\276\\300mOp0k\\n9\\215\\223\\023\\373HS\\022\\255\\227\\362\\324\\252V\\307\\031j\\232\\303\\255\\r\\275\\220[B\\367\\013\\001rw\\023\\330`\\273\\017s\\0057=\\351\\000\\177\\3111\\336\\246\\336\\230\\352\\216T\\26471\\322c\\262]SQ\\031\\224\\313(<\\247\\303y$\\252\\337$)\\303\\363\\307\\230\\344\\004`cK\\276\\216\\254\\243\\340\\374\\302\\306I\\215\\'8h\\266e\\312\\320\\237Yx\\302jJ6\\252\\304x\\017\\241\\345\\037\\262\\033?\\256\\0076p\\307b\\014\\307\\254co%w\\035\\251\\362\\343\\347m\\007\\255\\325Z\\251\\323\\322\\324\\370\\016\\311b4\\031)2\\231i\\010Kn\\270\\266\\367\\023\\377\\000\\020\\252\\312\\034mR}n0\\347\\036\\356\\357O\\032\\366\\'%\\221M\\224u\\004\\361\\340\\235F:5V\\2453@\\364NM\\002i\\2251F\\216c\\006n\\262\\363\\215\\323U%\\326\\255{\\337c.$\\367\\354pN+w1y\\223<\\352*m\\315}\\037\\343\\036\\365?.V\\365F\\277\\237k\\324\\232\\264\\232T\\314\\237\\233\\340\\317\\241Lm\\220\\244:Y\\242\\323\\237[r\\022\\256\\026\\313\\216\\2246l.\\225)\\265\\203t_\\036w\\264\\t?\\023\\300\\214\\252\\000]\\356$\\255O\\313\\225\\235m\\312\\235Md\\3510\\332\\232\\334j\\345\\nz\\345\\005\\242L\\210\\221\\213\\355\\270\\320 \\020H\\227\\036\\\"\\310Q\\270\\360\\215\\277x\\030\\227\\007\\253\\230\\233Q\\202\\325\\344\\205c\\356U\\036\\251\\263\\203\\322\\014\\352\\264\\247l\\242TRB\\271\\027\\371\\3416Kr\\267\\334\\372\\227I\\304d\\307\\003Ra\\354\\370\\313\\264\\231\\331URs,\\247\\233\\215)Iks\\017\\024/\\305rT`\\312R\\240\\253\\005){R\\t\\270\\027\\345*\\027I\\327\\247\\361vfo\\230\\213\\365)`\\302\\245\\366%\\242\\241VrVJT\\nT|\\237?\\334*\\022[\\211\\227\\334~B\\325\\370\\005\\245>\\245\\271\\272\\345a\\277\\t\\305\\002I\\\"\\347\\221ac\\253u@k\\037\\023\\207\\263\\225\\226\\371\\367\\255\\2306\\352w\\'\\322u\\003X2\\016\\200\\323(\\362\\\"\\275\\233\\205Q\\332\\244\\352[\\276\\032\\330\\210\\\"9\\265\\355\\206\\350R|B\\342\\316\\325\\'\\204\\023\\301\\\"\\351:\\221znD\\037\\366?\\370\\217\\272b\\001\\204\\331.~\\235\\177\\356\\001\\275\\240y\\322\\225I\\213\\023K2\\023\\212\\215L\\244E\\217M\\202\\303F\\326\\216\\302B\\022\\330\\375.Ou\\022I\\301Y\\004T\\302\\257z\\371\\206\\364U\\344\\r\\247\\363\\t}(in`\\311Z[\\0033\\346$\\307\\020)tt\\271Ii\\231#\\304K\\362b\\307Pu\\304rA\\363\\314\\000pym~\\250\\274(\\253_#\\005\\256\\345\\2679\\200\\373\\304Q\\021\\022\\247\\233L\\271\\204)\\230%R$(&\\376T$\\270\\243\\307\\310v\\371\\341\\001o\\335e\\001\\360\\014e\\325\\034\\245AS\\331\\233\\272t\\325\\332\\326\\257\\345*\\236Jk>Kn\\256\\232\\244\\230\\322*0\\022b\\276\\340\\2155l\\233\\004\\023\\261n2\\t\\002\\346\\352\\363w\\303\\372\\033K\\300\\035A\\3130\\013d\\227e\\265A\\325]1\\237\\247\\025\\251\\211esYJ\\341M\\336G\\272JJn\\313\\351\\370\\002\\240\\200\\257\\373\\240\\376\\350\\007\\032\\330\\260 F=V\\245s\\265\\037\\346\\014\\262Vr\\323N\\243r\\025c\\242>\\265\\362\\242j\\020\\242\\316CI+\\230\\270\\356\\323f0\\245xj\\016\\264C\\211B\\212\\224\\223\\260\\203\\341\\272\\273\\033(\\202=vW]\\277\\\\\\347\\263\\272b\\337\\217\\316\\270\\023\\325\\014\\234\\377\\000O\\232\\210\\2154\\321\\372%v\\235*\\212\\3051\\372\\036\\236\\312\\2509Px:\\365b\\032\\222\\272s\\341j.6\\246c\\225\\246\\305w*\\'u\\324P\\222\\235\\253\\026\\rOp\\2346)\\005F\\307\\211\\277_4\\307\\251-\\020\\257P\\365\\237_i3j\\024\\214\\275E\\313\\237\\260+0\\336|\\206\\346\\302\\216\\246\\021\\021\\320\\363M\\272\\312\\024\\267\\336QB\\333Ip\\206\\266\\251@.\\371\\345\\325gu-\\036\\241\\335?([A\\307\\364D*W\\340\\273C\\316\\322\\330\\246JN\\304\\271f\\344\\245\\027\\n\\332v\\336\\300\\330\\202E\\360>M\\205[\\220\\235\\006#\\356\\216\\007\\330\\223MO\\322\\332\\217P\\272\\007U\\312\\324\\331B=v\\232\\237x\\243\\324\\024\\224x\\255\\264v\\246BRV\\253$)\\204\\233\\203\\302\\213M\\244\\330\\022A5\\253:\\007_qwPe\\246\\242~>c\\246\\276Qk\\372\\205\\220\\031\\246/&\\344\\227\\247N\\252F\\214\\305F\\261\\'\\304\\231\\n\\242&\\301P(y\\204\\255\\r\\307u\\262\\265\\335N\\356\\001\\010)m\\300\\262S\\203a\\005\\264\\276\\207\\221\\346r\\350\\355U\\234\\352$\\003\\006\\371\\217[r>U\\352\\257\\\"\\352\\035=\\332\\035v6t\\257\\256\\210\\323\\021\\247\\255l\\303\\217H\\367\\306\\235\\211\\345\\001\\005Hze\\256\\202P\\245GG}\\312\\030\\033\\027\\031\\272E\\334\\276\\0326\\254S~\\r\\233c\\260<\\177\\231\\035\\327\\352\\016p\\327-\\177\\256\\345|\\353\\231\\250\\324\\214\\231X\\316t\\366\\341\\256\\251-\\337\\005\\227\\346Q)\\314\\270\\n\\312T\\205oSJi\\260\\\\\\267\\210\\264\\245E\\005\\304\\251J\\372\\216\\r\\371Y\\343 \\020\\027\\362u<\\303\\311\\354\\270f\\365\\370\\363\\']n\\346\\004\\312\\246\\323X\\250\\206\\333q\\2524\\021\\\"2\\023`\\313\\236\\002n8\\'\\313{\\217\\366\\343\\240\\344F*\\327\\362$\\351\\365\\3243Y\\207\\314I\\320\\245]\\037\\264\\227\\226\\227%>\\034\\372j\\342:\\265,\\024\\244<\\205 \\033}U\\214\\261\\\\\\206`\\337xwP\\255\\202\\207_`\\303&\\204\\257\\304v^S\\252Iq\\010\\231\\025\\3502\\302\\026R\\240\\225\\240\\264\\340\\004\\033\\203\\312\\261P\\023\\272\\310\\337>\\246\\235`\\363\\245-\\257\\340\\r\\310\\016\\2363\\224\\2729\\256\\n%o;\\'6\\2652\\232\\316Mz:!\\256\\003PcI\\254-\\224\\313*^\\365:B\\232Cj\\000%!\\302l\\\\\\n\\030{EF\\212B\\237Z\\234\\253\\334\\331v\\242\\374\\206\\337\\372\\210uC\\\\\\362\\276\\201\\364\\261\\242\\264\\234\\270\\342\\345\\3242\\224\\2302k\\023_v\\313\\367\\305e9\\212;F\\337(Z\\344\\241|[n\\361l&\\313\\352\\203\\023\\037\\266=\\356o\\377\\000\\036\\303\\\"\\327o\\373z\\232\\344\\353.g\\213\\326Z\\264\\253;\\352<\\330\\2712S\\356\\303\\311\\363|\\005\\245\\247\\314\\212E,\\240J|y_a\\324\\311u \\250\\235\\216\\260\\224]A[0-9\\267\\346c7n\\024\\225\\242\\340-\\200y\\337\\211!\\320\\035H\\314\\247\\242\\272nT\\3249p\\336\\317M\\324*Rs\\232\\3428\\034\\367y\\357Te\\256BIH\\tIS\\212q[\\005\\354\\2229\\347\\r\\372{\\260\\304(\\376\\345\\260\\251\\267\\'3\\270F\\200\\225w\\251W\\227R}\\272#I\\n\\\\\\231[P\\221\\3747\\347\\n\\257\\261\\273\\263\\351\\3758\\204\\243f\\022\\364\\343Q\\350\\372+\\323\\354\\254\\365V\\200\\036\\217K\\315\\271me\\262R\\233\\204\\326\\240)F\\366\\354\\002I\\343\\223oN\\341\\216\\013\\356\\262Vq\\335X\\326\\371\\205\\233\\324b\\326\\237j\\235E\\032\\001\\245Y\\223-\\344\\nR\\023UTi\\261\\004\\226\\033y\\367\\244;\\025\\367f\\006\\224G\\341\\222\\342\\334@m<7b\\000\\363\\003\\215\\257\\267\\212\\251\\021\\006\\036.=\\231\\226r\\371R\\004\\261\\371v\\250\\227\\3535~\\242\\325P\\374Fr\\311\\313\\264\\035\\253\\005<:\\342\\344\\310\\034\\221\\277b\\232\\216T\\t\\261/$\\371\\220m\\\\\\256\\014\\003\\267\\300\\230\\016k\\212\\270\\037c\\263).\\267\\346J\\206\\240\\365\\rO\\240\\002\\342\\343\\336\\356\\'\\302\\334\\n\\212\\316\\336};\\034\\013\\216\\306\\307\\344\\321\\322)\\304\\257\\215\\177\\304\\tviy\\206\\207H\\321\\2251Ee\\r\\373\\313\\345\\271\\013(!o\\255\\273\\262\\t\\370\\247\\303e\\005=\\254\\225\\016\\344\\222p\\352\\031 l!\\2130i\\326CX`_^\\265\\243&hV\\215\\346\\014\\347\\230\\226|y\\220\\237\\211J\\212\\333\\333\\027!\\361\\031\\351*\\000\\000J\\200b3\\204\\247\\367\\200\\333~F\\002\\351c\\223\\2263\\\\\\313\\035\\354\\000@g\\263\\356\\263\\231\\262\\247E9\\243P\\246\\246d\\212\\346b\\315\\022 \\002\\264\\251^,\\325\\254\\264\\245\\244\\246\\341hI\\273\\205_\\366`\\334n\\030d\\214Z\\322\\024\\3143\\257z\\250\\ne\\202\\351\\273RUU\\202\\3356\\242\\357\\204\\377\\000) \\256\\307\\341\\375E\\257\\362\\305j\\267\\203\\235\\373\\235\\253\\224\\311\\2548\\221n\\260\\231\\227\\006\\241\\033[(7\\025J8m\\232\\352Y\\275\\346C\\004x/\\021\\315\\326\\331>\\032\\217\\377\\000Oa\\340\\240\\223\\353\\242^\\273>\\014Yv)G6\\201\\364\\217\\2118\\321\\335C\\311\\235L\\345\\n]\\007P2\\3556\\245Z\\242\\004=\\223\\352\\365\\027^J\\240>\\034\\361\\002\\013\\255-\\n\\360T\\241\\310%II>&\\3076\\224/|K\\225\\216\\237\\330\\234\\376n9\\245\\267_\\243\\000\\371\\367\\253\\014\\357\\244\\225\\275J\\211[Uz~\\\\\\375\\224\\334f\\262\\026n\\256!\\331bj\\036J*0\\232{\\302R\\234m\\250\\3570\\360S\\241\\n\\271HO\\233s\\270\\321\\356\\325\\247\\227\\251\\340\\307\\357\\324\\242\\263\\242!K&\\352\\206\\\\\\326L\\217\\227\\265\\023)\\345j\\215\\026\\013\\361}\\325\\272eJx\\222\\364f\\330R\\230m*sb\\t\\272YB\\200RB\\200Zw\\\\\\334\\225\\371\\327-\\325\\355~#l\\033Z\\243\\301\\241\\257F\\353/\\322\\336ii\\220\\244,&\\301@\\216.10\\356s^\\204\\337\\250*\\333\\216\\300y2\\273\\353N`\\315T\\036\\247u\\242\\237\\221\\346G\\247\\246\\264\\232%J\\237\\032R\\325\\3401<\\266\\347\\273\\276@7N\\365\\305[*]\\371%\\034\\360\\240MG66\\211\\234\\365\\224\\360\\254k\\334\\254\\224\\035R\\255S5\\233G\\240&\\010\\227\\026\\026|\\3154\\350,\\256pi\\364,\\315\\367\\237\\001+\\332\\2453\\265\\211\\021\\302B\\202\\221\\334Z\\305@\\215\\226\\277Iv\\362\\004.\\263E8\\314\\245\\200\\330\\227\\223?\\315\\323=l\\021\\264\\2670d\\332\\326L\\253\\347AKu\\234\\311)\\204\\264\\305e\\346\\326\\222\\206\\366\\260\\224\\267\\342\\245v$\\266\\242\\342,\\213\\205\\244\\241X\\323.\\234n\\255\\204\\252\\252W_1u\\027W\\203a\\260\\036[\\370\\221_h6a`U\\346;\\005\\300\\033S\\376\\032\\r\\205\\366\\003\\267o\\351\\375N&V\\253\\360#\\316\\211_pri\\013\\350\\377\\000=\\252\\225^\\244\\3112P\\224\\254%\\207V\\256v\\236JH\\364\\270\\347\\214\\006\\033\\213\\215G9x\\374\\261X\\201\\347r\\320\\242\\250\\306^\\325Y\\312\\216\\370\\360_\\221\\357\\000zY\\320\\035\\260\\371\\002\\273}\\261\\256H\\341\\177/\\217\\020;\\021n\\351\\300|\\371\\202\\316\\244k9c<u@\\254\\225Z\\250:\\320\\314ymT\\210\\353K\\305-\\307\\231\\3426\\374y<^\\312nR\\032w\\341t\\020o\\270\\335\\262_\\310(\\234\\213\\342h\\233\\001\\362 \\223]W\\252\\235MU\\265\\n\\243\\\"\\013l\\324\\262\\226\\245\\323\\327U\\241\\323)o2\\260\\207\\250\\n\\212\\332\\234R\\256\\331\\016?\\340$YJP%\\\\\\001\\265E7[\\3026\\323\\264\\0330\\314;\\326\\342;\\215\\251\\024\\243\\365\\013[\\323\\255Gf\\203\\236\\362\\213r\\363=\\037\\\"\\232Q\\206\\366\\311\\021\\222\\354)\\221\\022\\303\\353y\\265)\\016\\004\\373\\253+IA;\\224\\244m\\\"\\367\\307?\\213\\223\\377\\000\\017A{|\\037\\261\\215\\231*~\\233]Hw\\365y\\206\\356\\216\\341\\346Z7JQggwC\\225:\\244\\351\\263\\346JK;\\014\\202\\354\\227\\024\\035RnE\\324\\233\\037-\\201\\004\\033rq\\320S\\2262\\250\\357!\\361\\030\\202\\214\\253Z\\215\\021\\005\\032\\232\\353uL\\376\\037I\\334\\210l\\253\\320[y\\302\\253\\357&\\337\\023\\243G5\\343hD=Q\\347\\321\\221z\\r\\252\\324\\320\\327\\210\\352s]\\035Hd\\013\\370\\273&\\266\\346\\337\\235\\366\\037\\251\\266:.\\233\\261A\\334\\344\\272\\237\\227\\202\\216\\236\\353\\325=X\\351\\217+\\351E\\n\\204*\\022\\241\\346\\374\\2752\\236\\304\\226VP\\211\\006j\\\":\\225\\013\\371Y\\002C\\345\\303\\333iQ=\\205\\264:q\\376\\\"uQ]\\352\\373\\367/\\336\\264\\346*N\\234\\350\\3657\\'D\\250:\\270t\\232KQ\\\"\\270\\372\\277\\021\\306\\333N\\320\\265\\330\\237:\\310+W\\305KQ=\\360\\026U\\333<D\\323\\026\\202\\371e\\214\\244\\232u^\\031\\303\\250\\272z\\354J\\204\\225)jJyJ\\000$\\374.\\001\\261\\372\\374\\206%$\\242\\307\\231h\\213\\216e\\300\\254\\347\\264/.S\\351\\355\\0255\\376Y$\\241\\313\\002\\204X\\004\\002>!\\000}\\311\\302N\\243i\\026x\\3711Ek\\331\\254\\226\\361*gZ\\372Q\\255}Xj>Z\\323|\\212\\304h\\231r\\200\\0345z\\254\\372\\203m%\\022f\\262\\240\\262\\033*\\013p&\\032G)I\\272\\203\\211\\006\\351#\\014\\361+5\\320X\\370\\231Qb\\006,\\337\\020\\222\\254\\311\\227\\362t\\272\\016\\230\\351\\300\\3602\\336H\\247\\354\\215\\346\\001r\\034oirB\\366\\337\\314\\343\\252I=\\300\\336\\005\\374\\270\\330V+R\\373\\203f8\\314mk\\324S:\\271\\027-f\\326s\\255\\016sb5Y^3\\361\\233m\\r\\373\\253\\304\\362\\233 \\004\\355<\\220R\\000\\271\\\"\\311\\260\\277\\227\\216?\\324\\235\\036\\005\\373\\034!\\0075V\\\"\\347\\214\\260\\212\\313A\\267\\213M\\226\\247\\264,w\\264\\241\\265w\\037C\\211\\310\\335O4\\214\\253=\\312\\235 O&\\324%\\350~\\245\\311\\313\\350\\230LT\\270\\227a\\270@\\262\\330Q\\334\\236\\303\\323\\201\\372\\340\\200\\241\\223\\222\\373\\234\\367\\021r\\2240\\265\\325VQ\\213\\257\\372>\\376m\\242\\273I\\207QM;\\300\\255Lr\\003a\\307Z>\\030\\367\\245\\270\\334w\\034t\\241\\246\\220\\322\\301\\265\\232\\262\\203\\210\\r\\252\\371\\331or\\275\\037plr1l \\372\\020a\\322\\362\\244\\344\\364\\347]=\\231\\231S=\\024\\372\\363\\025\\030O%\\260\\217\\303\\233\\r\\255\\341)\\334n\\332^\\210\\240\\010\\270\\273\\274\\023\\200lC^9\\204\\255\\313}\\334\\224x\\226\\033L\\363Xu\\326\\336D\\240\\t7Q\\267 \\340<L\\302\\266p\\373\\302\\337\\324\\026\\373E\\\"\\263\\037M\\037\\324*4=\\2658^\\nW=\\264\\022\\244\\305K\\205B\\340rv)j\\265\\271\\263\\313\\372\\202s2\\032\\215\\025\\371\\200\\200\\r\\207r\\245E\\326\\310\\024\\372\\206\\236k,\\tO19\\214\\321[\\226\\035a\\242\\265{\\323\\320\\242\\306y\\325\\241\\027qn\\024\\004\\033]<\\246\\375\\315\\360I\\265\\215C\\237\\243*\\264S\\221[\\037\\264\\270=+k\\306\\254\\353\\036y\\241\\'>\\227\\014*Um\\013\\246<\\252[2#T\\004o\\363MH\\262\\027\\261\\227RA\\273\\251\\266\\325\\241$].\\360\\333\\035\\353\\266\\276)\\025\\333UU\\374H\\237^Y\\231uu\\2523\\nR@\\222K\\257\\023\\267i\\370Z\\334\\366\\300\\271\\277\\334\\235/E\\254v\\340\\367Ds\\034\\270\\024\\266\\333\\216\\342PR\\337\\210\\337\\027$\\241[\\354>|\\021\\367\\300#\\373\\261\\355\\303K\\307\\357-mO?\\246\\275G\\313\\331\\246\\nN\\347Y\\367\\'\\254m\\271IU\\320\\177\\360\\250\\217\\323\\005\\345\\371A\\026=}\\242\\313+\\277T\\031\\317\\334u\\312\\205^K\\356x\\215\\325\\266\\207\\001\\340\\334\\331\\'\\365\\003\\364\\305\\325\\212\\205\\234\\307\\036V<\\307\\\\\\265\\257Q\\272{\\353&\\271\\251\\371W2\\276\\212^w\\313\\224*\\324J2\\034Qj\\\\\\225\\307\\223\\005\\322BM\\267\\031imKQ\\374\\250I\\355a\\206\\002\\342\\251\\275n/\\246\\277\\351\\237\\3636i\\326\\266Qs\\246\\247=\\223u\\036\\233J\\255A\\242e\\004#+ \\315x\\273\\035\\265\\276\\260\\363\\201w\\005\\3252b4\\217\\341\\033\\273)+\\302\\014\\205\\2532\\303\\336O\\246;\\252\\2668\\207\\217\\277\\037\\377\\000e\\206\\251V\\241Pt\\346\\r\\n\\234\\200\\323Q\\2406\\322[\\265\\266\\245)\\t\\002\\337@1\\223YUx\\\\j\\360\\004cG$\\310\\372\\276\\322\\274\\346\\007\\022\\271\\362e\\245`\\270\\343\\246\\340|0\\221l6]\\034\\034\\217\\351\\305:\\307\\245y\\203[:o\\211\\246\\031f\\277I\\2012Mf<\\2659W\\221\\261\\nm\\255\\353Y\\t\\tR\\326R\\242\\332\\212[J\\225d\\222\\022@8\\353\\261\\026\\317\\333\\230\\217.\\344[>\\271\\024\\366VD\\250\\321\\362=V\\275]K R\\353\\023 \\304Kn\\035\\256\\251ia\\305\\253\\320\\224\\206\\324\\332A\\342\\373\\234\\026\\272N1K\\212\\202\\246e\\220\\330\\366T\\245D\\235u\\263\\253\\245\\252C\\221\\014\\333\\002\\223\\271;\\275ms\\333\\001+\\363\\267sl\\032\\365\\346\\006\\272 \\200\\355k?U3\\374\\347\\324\\226)\\360\\324R\\342E\\355~U\\336\\337\\272\\025\\353\\203\\317\\361\\334\\231\\326\\355x\\302\\376a\\325\\230T\\252=G9W\\246\\006\\241\\305\\210\\343\\2178\\261o\\r\\244$\\251J\\343\\327h#\\347\\333\\327\\034\\365\\307\\277\\226\\023\\375\\300s[J\\253 \\271v\\265\\\\\\367\\031\\232\\257\\232\\341*\\rC0\\000\\270T\\244\\272I\\206\\312\\274\\310J\\355\\301t%J+\\006\\366[\\204\\036R,\\362\\306!\\026\\261\\363\\001_\\345\\033\\\"\\324\\234r4H\\354/\\305\\221T\\224CVH\\007\\302A\\354{\\360\\265\\253\\275\\373\\267\\362\\305\\262\\317\\n@\\224\\254\\216\\341\\237t\\357\\2534=T\\311\\005\\245K+a\\366|6\\323b\\\\e\\301\\312\\232W<(w\\007\\324\\020}pg\\016\\362\\021<\\351}I\\035\\007/\\2110\\313:\\205[\\310uw\\362\\315nB\\366\\024\\237\\001kX)u\\276mb;\\366\\302\\265\\356\\343\\331\\302w\\030\\2314\\344\\325\\3426j\\255F-b\\200\\212\\255-\\010i\\332L\\240\\245\\255\\004$!\\247Ur\\245\\033z/u\\317\\375\\242F\\017\\304<\\024\\251\\371\\212\\272\\215?\\267\\310\\031_\\007\\304!\\364\\275\\253\\211\\256\\322\\234\\313\\263\\246\\240<\\325\\333[K\\262\\254G\\004X\\376\\357pA\\340\\362\\010=\\260\\006aj\\237\\317\\243\\001\\310\\254\\220\\037\\357\\007\\224\\274\\210\\236\\233z\\220\\250L\\245\\307?\\341\\234\\370\\333\\320\\\"\\307u\\3658\\232d\\205\\241\\0166\\220V\\242@/2\\020\\337\\311\\360/t\\023\\201|\\253\\375>\\210\\233\\327hZ8\\302\\216R\\315\\342\\223T(q\\320\\224\\255@%C\\367U\\360\\276\\020\\275\\355VQ\\345\\3634-\\305\\007\\346Ms\\206`\\213\\235rD\\212\\\\\\366ZpZ\\317!\\177\\274\\223\\311\\007\\372\\203\\351l;\\34221\\274\\377\\000\\231\\342*\\357m\\352T\\034\\245\\243\\272s\\243\\365\\211.\\352<\\312\\034\\252-\\002\\275S\\233\\226\\362\\305a\\367T\\346b\\023#0\\250\\360\\332\\010O\\001\\016\\304\\010p\\251h% m\\334\\245\\330\\027RUrTO\\24516{\\276\\0220_\\230Z\\320|\\311\\224\\251\\272\\377\\000\\225(\\272w\\230\\320\\305\\032->\\255Zj\\223*\\003\\354\\255\\346\\344F\\220\\031\\360\\234%\\326\\334m\\221,\\262\\2578V\\370\\343rA\\030y])Q\\346\\222\\270\\367.M!\\0321uK\\235Ej\\242\\373i\\262\\266\\312\\332x\\364\\335\\377\\000\\225\\360\\016w\\367\\'[\\323*\\355\\325 9F\\273\\373&dT\\241\\301d\\254\\222\\221\\365\\347\\327\\327\\001U\\374\\314bl\\033\\226\\017H\\253\\342\\261=\\031QO\\376\\024iBR\\023\\337\\204\\215\\303\\3509\\003\\357\\206+\\356\\005\\324\\233\\267\\213\\317\\357\\003}[\\312[5\\306%\\240$\\224I\\nA\\277>U\\003{|x\\'\\004\\024\\344w8\\372\\237\\233\\023$]JP\\316\\253t\\247\\033R\\350\\311\\265s)S\\037B$\\266\\340\\nLGB\\037@\\267\\250L\\226\\232\\265\\273x\\2128\\361\\233\\226\\204\\016\\307\\355\\330e\\\\\\350\\3733T\\347j\\035\\006\\243<\\220\\355>\\004\\2303\\2448<\\362#\\222\\200\\203\\376\\243~/\\353\\270\\237\\\\$\\316\\263\\223\\360\\216z}\\275\\305\\343/\\025gT\\033\\251\\301y\\227\\237\\363\\267\\345 (q\\311#\\327\\341\\306\\027d\\277m5\\031\\024\\320\\334\\201\\312\\3149d8\\246\\263-U\\310l:\\332\\201\\222\\332\\002\\203k\\261\\t$\\022.7\\024\\203nlx\\300\\335:\\243\\223\\2233\\310\\310\\375\\25678\\'\\324\\255Z\\315\\215gX\\0248\\371\\215\\366\\021O\\225\\026tF\\343\\311SA\\3246\\373~*\\010\\004\\002G\\013\\004\\334\\367\\034\\330[\\251\\027\\376\\336\\256\\023\\014\\224\\256\\342\\0141hj\\342\\344\\255<i\\250jL`\\242\\251Jm\\265\\334!N+\\304R\\001>\\203\\362\\375\\006\\002\\245x\\223g\\336h@Z\\325>\\320\\001\\325f\\254=\\233\\363\\031\\2470\\360\\332VRR\\223\\334_\\236\\307\\032c\\247\\324Z\\030\\217\\332\\034ac\\247ZR2oO\\225\\032\\210t\\\"MUa\\004\\330\\202[Y\\014\\333\\277\\301D\\37512m\\325M\\022e^\\005\\341\\276\\321|\\232<\\n\\375\\0165\\022\\256\\352\\025\\001\\017\\264\\354\\226\\334M\\303\\336\\022\\303\\211\\035\\373x\\211A$\\334\\035\\273H!G\\t\\260\\207+\\r\\220\\034\\213E\\355\\270\\301\\235\\253o\\325\\'3F\\206\\201\\271\\327R\\333(\\007\\320\\233\\017Ry\\356O\\317\\0356-z`\\377\\000h;^kR\\004H\\211\\353s8;K\\243\\272\\322\\245\\266E6\\236\\225\\235\\333[j\\351\\\\\\201~\\303pR\\376\\027^)b\\367-\\207aR\\010\\3564\\257]\\026\\353\\206[\\322z\\355g/f\\212Q|V\\331hS\\244\\004\\227\\014W\\220U}\\210>B\\265\\245@\\002y\\262l9RT\\215\\350\\264\\'\\271\\307a\\263\\013t%\\255\\324\\\"\\316c\\312\\260\\363\\\\y\\t~\\\"\\266\\206\\352\\002\\300\\262\\253\\033)C\\272om\\252\\364\\342\\343\\265\\361\\\\\\352\\203/$>ga\\323\\262\\336\\247\\343\\361 \\260s\\333P\\353(\\203\\230\\233;]\\005\\211\\310\\335\\303\\254,\\000W\\307\\004\\246\\311X\\277r\\201\\2011\\262\\003\\330\\001\\235]\\217_R\\351\\344\\237\\217\\210\\216\\223Y\\252i\\306u[\\314:\\020\\266\\025\\341:\\206\\334Q\\016\\013y\\\\\\027\\356\\010\\342\\377\\000\\013`\\256\\245\\214,NK9\\354\\\\\\202\\300\\245\\236\\341\\332\\243\\235\\330\\317Y$T\\231q\\241)\\224\\005\\204\\270\\2048\\225\\330\\202.\\027qpBT8\\340\\240\\036\\340aN+\\251%Xy\\204c\\324\\313\\177\\325\\352C\\230\\316\\251\\220\\352\\226$\\335\\317\\020\\205$\\360R\\264\\220\\010\\267\\247\\'\\371\\341\\007T\\241\\226\\302\\340C\\262\\252\\322\\354Il=O\\265)JB\\211qMmU\\355c\\365\\372\\034{\\3232\\315\\210Q\\214\\022\\253\\001\\032h0\\254\\353~c\\311\\031\\244%\\327\\334z\\233\\\"[J\\235\\025\\333-\\265%.\\003\\270\\244\\202\\n\\222/\\264\\330\\221~\\010\\303\\232l\\024\\216:\\360g\\235J\\252\\262i\\361\\034\\364\\2277E\\240\\031Y:\\004$\\231\\324\\311R\\177c\\274\\352\\222\\024\\316\\375\\241m!V\\033P\\242\\200\\n}\\010A\\356\\236:Cw\\022\\252\\004\\347p\\021i\\310\\342\\346\\r\\363np\\237\\230c\\3105D:\\313\\236\\363u\\245\\324\\200\\244\\020\\256A\\372X\\341~a>\\347joJ\\306\\221\\242jEAQe0\\245+~\\322\\t*8\\026\\271T\\311\\331\\362e\\223\\351\\323c\\206vq\\363]T\\2442\\205_\\312\\t_\\230\\375H@\\027\\371\\0344\\307^Gf.\\353\\031Li\\t\\277\\020Y\\324\\353\\255M\\251\\0077\\002\\240\\375\\354=~_\\017\\2166-\\275\\352\\\"\\257j\\276$\\257\\247l\\314\\305W,L\\3115Y\\t\\\\I\\324\\327!Jei\\006\\341@\\244*\\336\\226\\270?l\\017\\317\\213\\177\\231\\225\\353\\310nU\\215\\\"\\313\\256i\\266\\177\\252@\\226\\026\\035\\247<\\324e\\027O$\\240]\\\\\\374\\t\\003\\364\\030\\3467kd\\277(\\177L\\335m\\270Q\\203\\252o\\231\\273K\\352!\\313\\337\\315\\305\\277\\276-\\225^\\327\\314{\\337\\007\\304\\335\\231\\252)\\253S\\335\\250\\311\\236\\364t\\265%\\204Gsm\\320\\242\\026\\024\\347\\036\\244Y\\035\\276$`\\336\\205\\215\\333\\277\\221\\210\\372\\346H|~\\013\\\"\\232\\275\\0015^\\243\\335\\211\\026;\\215Akd\\342\\222\\000\\262\\035B^i\\244\\237\\201\\361\\023\\273\\343\\267\\006g\\327\\273\\365\\010\\351\\366\\013\\261\\301>L f\\235DFW\\312K\\213\\035\\356T\\r\\266\\254\\3667\\277\\036\\235\\361\\343\\353\\302\\010Z\\260\\003\\314\\255\\261\\252\\022\\263\\226\\240\\240)JX\\016\\245\\002\\352\\271\\357~/\\202\\n\\366\\327\\304\\245\\231\\034\\016\\330\\313W^\\315\\r\\320r53*\\264\\350\\013R\\033+\\027\\034mI\\'\\327\\216H\\370z\\341Vc\\036<G\\314G}\\206\\313||\\315\\361f\\206(\\\"\\2615\\340\\031\\003\\360\\033*\\363,\\177\\021\\003\\260\\'\\343\\337\\023\\013\\035\\202\\001\\251W\\343Z\\353\\346D\\242ff!\\325\\346gyIul\\323c\\251\\306\\322\\213\\250\\251\\323d4\\200=Ip\\244\\017\\231\\307F\\300WG\\210\\031=\\307\\n#u\\002\\024\\374\\257LK\\265\\'\\222\\305R\\261\\265\\017\\227\\035HLF\\255`\\322U\\362\\037\\230\\223\\312\\276\\\"\\370\\032\\275oq\\225\\331\\0141\\305h<\\312\\225\\223_~\\036n\\203&\\022\\030.\\207\\322\\0322Sv\\322\\243p\\024x?\\224\\220\\253\\330\\333n\\006e\\004N[\\037\\350\\270\\021\\367\\022\\300t\\315\\325\\215o1I\\221L\\256?\\035\\327\\232+n\\251\\025h\\000HaB\\301\\344\\244\\013Z\\346\\313@\\026\\335b8V\\010\\250\\005\\257_1\\337\\356\\215y\\032\\020\\241\\237\\264\\252\\237\\230r\\307\\355\\374\\201!\\345\\266\\313eH\\200\\265\\202\\343 r<5w)\\357\\3457\\267\\247\\303\\002]\\214\\023\\352Oq\\266\\037P*t}H:s#\\271\\217*\\261&c\\205\\023\\351\\000D\\250(\\200T\\266\\306\\357\\tv<\\330$\\204z\\330\\266\\007\\033\\260N\\025\\355b\\224\\177r\\271\\016;\\375\\304\\371\\216\\331+S\\346P`\\370H$0\\341\\033R\\\\\\276\\337\\210\\347\\371\\034\\007v+Ui\\177\\230\\346\\213\\253p\\t\\3670\\314y\\2410k\\\"\\271KZ\\214y[D\\264%W)<\\r\\326\\370\\201\\372\\333\\024\\272\\204\\276\\277#\\334b\\304YI\\007\\375G\\332nli\\222\\033jRV\\313\\251\\336\\332\\222xR\\010\\356\\0169K\\361\\337\\032\\375/\\2019\\\\\\227zw\\277R7\\251q\\377\\000\\304Q\\367CZK\\216\\035\\251\\334\\253w<\\022}9\\303j-fO>\\347\\213\\224\\235\\242\\007\\270\\341\\252\\225y\\271\\033\\\\g\\275\\r\\366\\303n:\\251IH\\006\\333\\024\\242\\242~\\312\\335o\\375\\261\\327\\020\\304!\\374E!wo(\\335\\253\\265\\030\\231\\201-\\325`\\376\\034\\207\\321u\\021`\\035\\260\\344\\016\\336b9\\037\\033\\021\\336\\330\\312\\332V\\332\\366c\\014|\\222\\226h\\231\\027\\205^\\016%.\\025\\233n\\001D\\270-\\330\\217\\355\\205\\345x0\\021\\325v!\\363,6\\203g\\201N\\311\\322\\2434\\372\\224\\331{\\301@\\335{\\024\\200\\024\\007\\035\\267o\\372\\363\\206\\325\\2165x\\200\\347\\205\\260\\350A\\277Q9\\245\\251U\\007\\022\\302\\202\\2548Q_\\257\\317\\031)\\372\\365\\367\\200\\237\\000\\001\\033\\364\\213<\\376\\302\\225\\032Z\\237H\\022\\022w\\371\\210\\332\\177\\210\\366\\372\\342\\217\\244\\264H\\007 A\\233u\\316\\233\\nuqY\\356\\214\\002\\\\\\250GI\\225ky\\326\\201b\\257\\255\\273\\216\\374\\023\\361\\300\\271\\224\\326\\244\\272\\017~\\346\\370\\354\\365\\2154\\202Q\\340O\\235[\\213\\016\\031\\273\\213X\\001\\'\\201\\361\\302\\335\\255\\314\\026^\\314\\222\\276\\214\\235jt\\317\\330\\371N\\035\\030;`\\334\\224\\244\\252\\340\\005.\\367Y\\376C\\364\\303\\274J\\370\\r\\010\\237!\\332\\323\\266\\212um\\272z\\377\\000`j\\004w\\324\\026h\\315F\\226\\205\\020J\\274\\022BU\\365\\001{~\\211O\\303\\032e\\\"\\263r>\\341=+(\\326\\n\\223\\0069\\3277\\252u5i[\\327!\\033\\2247q{\\033\\014-?\\335\\334h\\327y\\214z/\\023\\302\\314\\177\\266\\245\\251;[\\374E\\000x\\334x\\026\\301,\\374\\227\\314\\023&\\322\\313\\250L\\207\\231d\\347]H0\\367^\\004\\026\\202\\\\\\347\\312\\221m\\312\\'\\353p-\\376\\203\\361\\030\\030S\\315\\30134\\376\\235|\\276c\\376\\241\\352K\\323h\\220)\\255T\\020\\210\\310y\\377\\000th\\233\\0243\\344\\026\\355k\\025\\205\\2368\\275\\360\\345\\021\\002\\r\\010\\0138\\265\\213\\267\\270\\212\\201\\231\\351\\224l\\262j\\325w\\020\\230\\261]3$\\255]\\217\\206\\016\\301oS\\270\\222\\007\\304\\003\\334\\014g\\227`T\\324\\255\\000\\363\\346>%H\\327\\215`\\315\\232\\333\\235\\234B\\237z%\\032*\\366\\261\\001\\242v\\251\\036\\205_\\304\\243\\337\\030sAV\\304\\275\\271\\351\\215\\345}\\307\\034\\276D\\032\\334)\\313JT\\226%\\266\\341B\\333\\n\\006\\312\\007\\220x#\\344x\\306;\\324L\\203N\\014\\203e#\\236\\333\\317\\352\\223\\222!\\313\\025*b\\335}\\300\\322BJ\\032@;\\302\\305\\300\\330RJJoe%E>\\270&\\264\\377\\000\\274\\366\\347q\\221\\265\\362e\\267\\321N\\241\\343\\324\\251,\\315\\212\\342\\322\\222vI\\216\\027eGr\\334\\244|\\277x\\033\\3628\\357{l@oq\\2259J}\\215BNo\\313\\224\\014\\352Y\\316\\371~HL\\244\\020\\334\\327\\367\\355/\\264{\\245\\320/\\371HJ\\222\\253]%\\037\\002l!@\\226\\354C\\305\\300\\257\\210\\\"\\250\\265V\\3139\\214\\345\\327\\030u\\345>\\340i\\266[N\\345\\272\\242@HH\\034\\233\\223ao\\210\\267\\307\\004\\336\\241\\200\\020\\234KT9\\004\\317s\\204\\272\\236N\\252K\\312u\\277\\tnFt\\265%\\014\\272\\205\\215\\303\\363\\000\\264\\022.\\223\\301\\261\\356\\017\\323\\003p\\340\\'A\\215\\225]\\2504dz\\227\\250S2\\314\\243\\025\\327|H.\\274\\024\\325\\211\\273W\\370_\\320\\361\\177\\236\\026gc\\007NB\\013\\237\\214\\226\\2119\\313\\231\\205\\025\\312\\355:\\233\\342\\025\\tS\\230B@\\346\\367X\\037\\337\\n\\251R,\\321\\234\\317\\324\\034\\354z\\223>\\253\\362\\353\\220\\263\\034|\\317\\t\\220KiSN\\371\\257\\270\\023o\\326\\347\\203\\351\\216\\360\\250\\340\\237\\342`\\226\\236\\344\\210eeD\\315\\031}tj\\215\\306\\342\\024\\303\\2106R\\0249J\\201\\364 \\3434\\322/\\031\\030\\222\\333\\334\\215O\\023\\030\\252x\\025\\026\\320\\323\\215L\\002J\\033M\\221p/p\\007\\026#\\220=/oL*\\311B\\267\\017\\314i\\217\\220\\274>\\243\\352\\031reU\\ri\\374J\\373\\024tD\\221M\\244D\\367\\366\\2306nR\\036\\036:e\\020\\007.~0\\013<\\361\\267\\260\\004\\006h\\273\\257RW\\226\\226\\344\\024\\370\\202-g\\315\\255H}\\367\\033qD\\270\\253\\202=;`d\\'\\231\\'\\342U\\324\\253\\230\\307F\\314\\257\\265Nl6\\331\\374$\\246\\312\\004\\020\\000J\\207q\\333\\234V\\345\\345\\346Z\\257\\346$\\232NrvvNq\\244\\204\\272\\250\\257\\241\\344\\357<\\371E\\210\\373\\334\\214Z\\275=D\\030E\\303gQ\\337M\\'5L\\244\\234\\337\\340%o\\313\\037\\365~\\364\\376Ts\\265V?s\\364#\\000\\323B\\245\\244\\352,\\270\\0252+\\252y\\301sd\\260\\310Z\\324\\226\\345\\'r\\257\\360=\\370\\370\\2348\\245B\\300\\232\\302\\322eZ\\237\\\"\\247\\246\\361\\312\\237\\334\\230\\3126\\332/`E\\277\\365\\373c<\\205\\032\\231#p\\264j\\002*\\271\\201\\325\\276\\252Z\\367\\035\\213 \\220}o\\353\\205,4\\3468\\356};\\222|\\204\\227\\226D(\\215x\\213qWq7\\341^\\240q\\351\\3164U-\\365A\\232\\302\\315\\t\\213\\245B\\310t\\027b\\245a\\332\\204\\325n\\234\\370P\\005\\305\\251D\\200\\001\\006\\303\\221\\306\\010\\254\\022@\\324\\322\\374\\200)\\013#\\231\\265rega\\224\\242\\276^4\\330\\261\\3426\\007t\\253`[\\251\\037G\\034r\\377\\000_\\226\\016\\n\\020\\305\\313\\266\\033\\203\\256\\250u\\016e.C:mKm\\326\\343\\245\\224;1\\365.\\3767p\\022\\017\\250\\004s\\365\\030Y\\230\\255i\\224\\273%\\250\\254\\252\\217p>\\375E\\265\\250-\\265\\r\\327\\332\\253\\017N\\370\\037M\\307\\214JK3l\\235\\302=\\022\\237\\022uj$)\\210\\334\\313\\262\\233C\\251\\370\\244\\250\\002?Lj\\307\\301\\214\\352\\327qw\\367\\202\\250:\\223^\\312\\032\\246\\376t\\201 \\007\\234\\222\\342d5s\\261\\326\\324l\\246\\324=A\\037\\034\\037\\213\\342\\2572\\271l(\\313\\344\\276\\245\\222\\310\\324\\375?\\317T\\267s\\256He\\272]BB\\000\\225\\035\\027\\014>w\\003\\265\\346\\301\\2607\\347zlA\\000\\333\\213\\215\\017\\206\\324&\\276\\325\\243k\\036hy\\327;i\\306eB\\337Yn\\\"\\234Cn\\264\\350\\007\\303Q\\002\\310QO\\n\\004_j\\375@<\\003q\\217-\\251\\210\\004B\\025\\270\\256\\241\\002\\271Gk3\\320\\343\\346\\354\\2666K\\2478\\036l\\244\\220\\266J\\010(\\265\\271!&\\300\\037D\\361\\373\\240\\233\\'\\221\\346]\\017\\324O\\342%-e}g\\246*\\213\\234\\036v\\025\\\\\\225*5`y\\224V{\\245\\304\\233\\007,B\\207&\\340\\020w\\020y\\245\\200M\\2612\\016.\\203@n\\245d\\254\\351\\245\\323\\r#:\\300\\036\\356\\265~\\005B2\\367\\260\\355\\307\\356\\257\\343\\362U\\217\\255\\261\\213\\205+\\242\\'D\\231u\\334#\\257LU\\231u}a\\241\\345\\371jR\\233jz\\036J\\377\\000\\320\\202\\025\\317\\3500\\253\\366\\016l\\330\\213\\263j\\010\\013\\tcz\\223\\222\\313\\321\\337i\\347?8\\342\\302\\306\\343\\200o\\177\\217?|t\\303\\352U\\374D\\212\\244>\\340s,\\327\\021L[n<\\244\\335M\\202\\204\\201\\330\\\\\\334\\375/\\214\\013\\001,6}\\t\\024\\326}`\\312\\224\\'\\336i\\352\\213\\376\\376\\246\\220\\026\\\"6\\026P\\260\\tIY$\\004\\233*\\340\\013\\341F]\\217s\\351>!\\270\\317\\215_\\367L]\\243\\375\\\\A\\256j\\005:\\237:\\204)\\361M!\\270\\016\\357|\\024>\\323l\\241\\242\\245\\\\\\013\\025%\\\"\\351\\371\\234\\027\\217iA\\365\\314\\263?l>\\272\\016\\242\\376\\240r\\222(\\0055\\272\\034\\223*\\2150o\\210\\362U\\273`<\\370d\\374\\200\\357\\353\\215\\207\\026$\\254\\211\\226\\035@>\\344?-V\\033\\213L|\\027/vm\\267u\\3567_\\234x\\352J\\303* \\270\\222\\2355\\313\\277\\342\\312-rc\\022\\336K\\314,\\255\\250\\250n\\350\\222\\302\\022\\245\\27687.\\245%\\265%6\\261\\033\\271\\275\\201\\265\\013\\244$\\3152oJ\\234\\003\\'\\355\\030\\361h-\\256Tf\\332[l\\004\\206[\\374\\254\\252\\326\\330\\237\\220H\\000}1E\\254\\362\\334]\\220\\340\\215\\375\\340\\2278\\317i\\372\\233L!IR\\203\\211\\\"\\377\\000\\036\\370)|@a\\t5\\006\\344\\351\\354\\206\\255r\\353\\013\\007w\\026\\343\\277\\030\\245\\376G\\211\\207\\026\\356n\\006\\332\\202\\224\\326]\\330\\223u:Jw\\033\\223~\\177\\276\\025\\262\\226s\\017\\026m\\000\\206=<\\313\\3612M%5\\212\\272P$\\273e6\\222\\256S\\307\\003\\353\\215\\353\\034>\\223+\\313K\\020\\313\\316,\\3273\\324*l\\331\\004\\262\\313\\242L\\324\\216\\333G!?;\\177|1\\242\\260\\001c\\000\\310v\\3656\\344\\374\\313\\0373\\352Vg\\324y#\\301\\214\\364\\225\\355\\222\\005\\212\\023kyx\\265\\366\\213\\037\\200\\'\\031Z\\334\\254\\320\\207cih\\344\\322\\005\\324w\\354\\274\\363\\220$\\346g!\\245\\227\\251\\257\\244\\322Ki\\333\\266.\\375\\212A\\026\\027\\336\\265\\357\\2777(I\\026\\271\\306L\\233_0+\\310(\\302Wx\\362|E%)X\\nI<\\374\\273\\377\\000c\\2148Ec\\311\\\"\\031\\241\\245I\\232\\321a\\315\\213\\016$\\245W\\\"\\306\\374\\0369\\3751\\201\\007Q\\232\\202\\030@\\226m\\243\\241Y\\316e\\'/\\025\\276\\205T\\334j\\020Q\\262\\234\\033\\310G\\346\\346\\347\\216\\376\\247\\006\\324\\301j\\363(\\350\\3319\\034\\027\\311\\206m:\\313\\231\\363K\\033\\025\\347\\353To\\025\\033[~\\226\\212\\210qRR\\240\\237\\310\\244\\002\\332\\310$\\216\\0269\\270\\027\\300G\\254b\\275\\375\\265>\\177\\334fz]\\3305\\362m\\177\\344K\\t\\226\\346e\\375G\\313\\262a&(\\023R\\325\\236\\246\\314\\005\\013*\\034\\224\\020HP\\277\\245\\217\\007\\ry\\022vfh\\037\\266\\t\\021\\005\\032\\267]\\310\\361\\025>\\215,\\317\\210\\322\\324\\034i,\\253\\304\\212\\001 \\241I7*\\003\\265\\376\\346\\330\\245\\207G\\351\\204U\\304\\246\\342\\032\\225^\\016fS\\325\\032\\014\\304\\2670\\202\\374v\\202\\210\\273\\241$\\024\\213z\\250p>`\\014x\\247~\\3452).\\241\\227\\342IrF\\242\\345\\355G\\242\\257*gx\\354\\276\\323\\255\\226\\226\\323\\255%V\\277\\027\\027\\343\\343\\377\\000\\2464(5)NC\\323\\345dR\\203\\246-hv\\250\\304\\253P\\236\\361\\2512\\034\\027\\361\\t.0U`\\204\\356\\375\\366\\373\\215\\335\\301 \\036\\340\\343=(1\\205\\231\\206\\344\\343\\'Z\\321[n\\270\\3634\\347\\2479\\031O\\245!E\\014x\\204$\\355\\354\\233\\202I\\344\\000-\\337\\005VD\\t\\276\\237p\\t\\251U\\347r\\024$U&<\\223h\\310\\020\\000U\\323%E7J\\222A\\261H<\\237\\207c\\337\\000e1\\017\\305}\\310r\\022\\2126=\\312\\377\\000Y\\252\\312\\2371\\351\\262$)n>\\265-\\305\\023\\311Q\\347\\237\\276\\007J\\\\\\037\\\"s\\316\\357c\\226\\'\\334\\302<\\277\\010\\024\\205\\222op\\016.\\310I\\324\\251.\\000\\321\\205\\375\\032\\326x\\324\\214\\237#&\\346\\352\\272\\24532[L\\305\\206\\363\\334FM\\210.\\213\\360\\023\\315\\210\\370cJQj\\007\\317\\270}7\\200\\006\\314\\315\\362\\364*\\301\\246\\302\\001MHQ\\014[\\233\\203\\310\\262\\207q\\315\\357\\360P\\306\\247lt#\\312\\355\\325|\\241\\247N\\253\\014i\\343\\371v\\024\\'TU\\022jW5kP\\263\\213Z\\256\\253\\374\\254@\\372\\013cp\\000:\\021vVCX\\1771~\\262R\\316B\\256\\273\\032\\013\\2524\\311_\\213N?\\300\\202o\\341\\237\\232}>V\\305\\210\\023U\\265mM|\\300\\355Zq\\223_.\\245VJ\\024.\\017\\030\\254\\246\\214%d \\234\\305OU\\022B\\026#\\270\\372c\\370\\250p\\'b\\224\\240;\\250\\020H\\275\\310\\371[\\213\\337\\031.\\311\\363,\\311\\304\\350\\310\\316\\236\\300\\247A*\\314\\325\\300\\026\\246\\217\\221\\265$\\362\\273Z\\347\\357c\\306\\006\\273\\2124\\364\\2163\\354\\355\\251N-*\\250IV\\323\\377\\000!\\240G\\227\\347l_\\032\\266\\263\\314\\305\\337\\355\\0312\\217\\277;\\031R\\234_\\371\\312\\222\\256\\026\\265p\\323|\\002O\\364\\373\\340\\326<F\\204\\035G&\\363&\\352\\200\\342\\351p(iq\\014C\\226\\262\\226\\202m\\276BA\\374E\\244\\023k%;\\211Q\\260$\\004\\213\\250\\201\\214[\\210\\3636\\262\\316#C\\324\\036\\365p\\355J\\237L\\246\\262\\357\\205\\016\\032\\336\\361\\032\\210\\237\\316\\372\\202HA\\002\\367KhI\\365\\374\\312W\\372F(X\\021\\342\\013iml\\300\\003\\216()j\\037\\303\\301\\037>1\\236\\214\\005|1&\\032\\333u\\005{R\\256O\\312\\366\\373`b\\030\\251\\\"6_\\0167#\\014P\\206[\\315\\325\\232\\333\\261v\\246J\\236n\\234O\\224\\006\\324F\\365&\\326\\341@\\255\\261\\350A^3\\356\\003T.\\304Lf\\356\\203\\346(\\031\\200?O1f-[Q{!&\\366\\007\\320\\023\\351\\204\\366b\\251\\270:\\2171x\\311\\252\\266\\344\\254I\\374\\314r\\306o\\314\\371&\\240\\252\\326V\\253\\274\\322\\202\\206\\306\\334\\036[\\001\\330\\001\\375p\\342\\234\\207\\327\\023\\t\\253\\253[kv\\335~\\221\\013\\371oU\\235\\315\\355\\014\\326\\314\\177r\\252\\000\\005N;]\\234\\342\\336 \\275\\355\\363\\270\\266\\r\\026!\\371\\233\\333]\\0169c\\237\\037#\\3636\\325\\351\\2472/\\366\\266U\\221\\356S\\320A)G\\225\\267\\225{\\334\\333\\362\\253\\3461\\240\\226\\252\\335\\257\\006\\210$\\271Qr\\251\\02731\\034E}\\347\\374*\\253D\\221\\356\\262.7(\\204\\202J\\025p\\240@\\3656\\277l\\020\\010+\\342\\rf\\221\\364=B\\020\\316-K\\210\\234\\275\\232\\000akHr$\\224)*J\\307`\\343k\\004\\245i\\357\\310$Z\\343\\234\\016\\340\\362\\232\\326t7\\030u37\\324c&\\000c\\231m\\276\\332\\022\\352\\005\\377\\000\\021?\\225_\\255\\225\\365\\372ct#Sp9\\215\\230\\026\\352#*fTf\\331\\r\\300\\225\\026m\\\"\\224\\267\\032eQj\\215=\\341\\243~\\342\\n\\002\\356;\\221\\353\\371p-\\224r~[\\213\\257+\\333\\324\\023H\\342\\312\\332l=\\007\\246-\\346*\\236\\244-\\017!hI7N\\341\\305\\301\\305\\017\\271\\\"\\304\\266\\002<EX(s\\307lT\\253\\037S\\336\\\\VM\\364\\337P*\\036\\376\\303\\025\\210\\312[,\\235\\261\\2447\\024\\331\\n\\333d\\245E\\\"\\335\\207\\030\\262rC\\032\\341\\336lN\\'\\342N\\016}[\\262\\331uo\\013\\370\\333\\206\\340\\007b\\007{\\337\\007 \\005w(@7y\\206\\232\\326e\\201\\2352\\003lT^J\\324\\226Sb\\240I\\003o?py\\037O\\231\\304>\\004\\362\\262R\\315\\010\\\"\\311\\031N\\247\\232\\363\\342\\262\\276\\362\\227\\003\\277\\214\\362E\\302\\033\\275\\267\\375;[\\353\\214\\366!\\320\\313\\006=#/\\346\\n>J\\244!\\036\\004iM%n([\\304^\\341u(\\333\\277|Rc}\\237\\\\\\013L\\255\\252\\022\\235\\212\\360-\\246+\\212C\\211*\\265\\324\\r\\210\\376\\\\\\340[\\024\\265\\232\\227,\\031\\004\\210T*\\356f\\032\\322\\030hnO\\211\\317\\027\\277\\377\\000\\3560\\306\\265Z\\223b\\n\\305\\215\\232\\021>\\245\\352%K,On\\205E\\232\\354w\\233ot\\262\\332\\271\\000\\217+G\\216\\326\\346\\337<)\\260\\331u\\273S\\352K\\254\\024\\001\\034(\\035T\\306\\246\\377\\000\\327\\031\\212\\215.uW\\303\\010>\\023\\251CJ\\t\\034\\r\\326;RO% \\033\\374Gl\\020\\274\\270\\352a\\373\\245>\\304\\033\\347\\235@\\257j-q\\354\\303\\230\\036\\nqI\\263L\\242\\341-\\\"\\342\\311\\003\\371\\374O\\362\\036\\200w0\\310b\\354\\0101\\211\\016\\245L)%C\\314\\276\\t\\371\\003\\377\\000\\236-2\\206*~\\274\\345\\212\\342\\004\\\\\\347\\220\\030\\214\\355\\206\\311\\324\\025\\026U\\177\\212\\233Q(W\\333n\\0205\\0315\\377\\000\\027\\361\\031\\321\\234\\034\\355\\3225\\352\\025q\\251\\231\\205oC\\226\\247\\\"\\210q\\214\\005+m\\324\\321i\\n\\334Bo\\265D\\250\\222\\017bN.\\203Fe\\231\\221\\335\\214\\t\\230\\207\\236,\\271\\312\\\\N\\320\\257@p@\\254\\305\\263\\025T\\033-\\010\\216\\'\\204\\252\\375\\373\\021\\360\\304\\355\\231\\265V\\366\\267\\371\\212\\251U\\371ty\\211\\250\\300\\232\\343km[\\223e\\037\\323\\351\\361\\307\\275\\262<\\217s\\332\\262\\036\\207\\344=B\\006\\\\\\324\\265T\\237D\\332\\024r\\333\\311l\\271=\\223\\346h%$]H7\\n\\033\\257\\177]\\266<\\021\\215\\361r8\\222\\267|\\372\\215E\\211\\220\\274\\204\\237Q\\263M*\\267\\033\\307*B\\227`^a\\342\\222\\256\\326\\265\\307\\n\\343\\324p}-\\206cJ4=J\\263lq\\211\\253U\\210\\324a\\373*\\240\\265\\312\\243\\314V\\346Ssx\\356qr\\222\\017\\224\\374-\\363\\004\\0201\\010\\3445<[\\270\\267\\030\\327Qv|R\\333K\\2512\\344t\\240\\270\\315Y\\375\\273[J|\\303\\307I#\\221\\307k\\003\\315\\276\\030\\310\\236\\320\\324\\334\\274\\257u)O9)\\347\\036\\224\\247\\034R\\311R\\311>c\\334\\223\\361\\300\\325\\305\\027Y\\375H\\205D\\271\\310I\\347\\233\\337\\214o3\\'fli\\340\\031i$yQt\\205\\017S\\334b\\207\\334\\362y\\\"K\\240\\004\\242\\374\\2375\\217\\246=Y&\\332~j\\314\\024H\\316\\323\\351\\225I\\r2\\361\\nu\\266\\235PJ\\210\\034\\022\\001\\344\\375q\\033\\226\\274K\\245\\217Y\\372d\\232&lUMp\\346\\222C\\252HL\\213\\244\\2170\\375\\340{r,~\\370\\333\\020Y\\363\\017\\005\\031v}\\303\\r77\\3139u\\2100\\235R\\236]\\220\\022\\005\\312\\257\\377\\000\\2765\\262x<\\030\\373\\226s\\013yIr\\235\\213\\341\\370\\260i\\326u\\324 \\002\\267\\335y\\264r}v\\244\\354O\\320\\372\\343)\\277ry\\227s\\303\\262\\363\\253R\\234~\\311\\216\\242\\265\\020x\\335\\334\\377\\000A\\212W\\374\\240\\366z\\215\\031\\216\\233O\\203&vp\\232\\342\\n\\246HZi\\021\\001\\037\\235F\\345\\365\\017\\200W\\345\\035\\257r}1\\343Y\\246\\\"z\\216\\002\\201#9v\\r\\037+T\\'f\\tJ\\0046\\343\\276\\352\\332\\205\\310HQ\\262\\217\\324\\013\\343\\313/\\376\\216\\246\\325\\237%\\240s2T\\237\\257UeU%:\\2459!\\342\\241\\270\\222l{\\177,\\rX\\213\\357\\267\\270\\372\\373F\\226\\312\\320\\273\\036E\\270\\301\\253\\374f\\023%<\\260\\222\\000\\365\\036\\230\\207\\324\\223d\\206P\\200\\206\\323\\335(\\005V\\365$_\\373\\342\\222Eaj@\\340\\017\\276\\027\\31497\\336;\\323\\226\\334\\212(y\\016\\257\\306\\216\\346\\307\\022\\263\\300J\\256RE\\271\\364U\\357\\362\\307\\232\\020\\324\\363W\\230\\2313@Pq7\\334\\r\\355\\374\\377\\000\\2664\\177\\3431\\320\\236Is\\335\\235-\\241W\\013\\262\\205\\276\\004_\\021\\177\\214\\232\\023\\346\\345-\\007p\\372\\024\\343\\3314#\\246U\\253L\\243\\324\\032\\237\\t\\302\\227YXPQ\\347\\352-\\353qq\\367\\306w\\r\\326L\\366\\273;V\\t=\\225)\\266\\225\\026\\263G\\221\\34072\\356Gm7>\\022\\301\\263\\214|\\322\\r\\255\\362#\\342lN\\005\\274\\353\\321\\215\\255\\372\\30714\\311\\316\\036\\362\\217p\\2518\\004I.m*\\'\\376\\003\\267\\033V~\\003\\270?%|\\260\\300\\r\\235A\\233\\324a\\315Y\\222\\256\\274\\263.\\210\\244\\020R\\343E\\345-V\\332\\002\\201\\003\\353q\\374\\260-\\350w.\\373\\355H\\023\\217\\363m\\304\\356<\\222n1OQw\\270\\225\\307\\200]\\220@\\370\\021\\215\\007\\251\\'\\245\\324\\256>\\315\\243rV={\\337\\214I&+R7\\004\\361\\300\\344\\374qe\\365$\\326\\251\\211\\330HP<^\\330\\364\\257)8\\226\\365\\0342\\366`u\\017\\376\\314\\223SC1\\337PJ\\212\\331\\336\\020}\\025oN@\\373b\\2445cp\\212\\237\\353\\013\\n\\231Z\\274i\\024\\324\\311\\222\\257\\363%%\\004_\\226\\210$\\033\\037\\2665\\261\\271\\246\\3043\\324\\220ej\\2533\\3505\\225\\274\\350\\334\\266\\220\\264n$\\335IXX\\377\\000\\371\\305+\\231\\330\\3423d\\332\\243\\363f:c\\270\\002\\337&\\353\\334|\\210\\347r\\273\\372\\017\\347l[\\376\\206Os\\334\\303\\234\\204\\232\\270\\234\\363\\203\\335\\351\\215)HM\\356\\006\\321\\345\\037sa\\3658\\026\\277-\\346P\\270\\007R\\\"\\356i\\237V\\2135\\307\\344\\337\\303\\206\\2458o\\334\\250\\204\\377\\000\\177\\323\\036\\334\\006\\246\\264\\036E\\277\\304\\207HHi\\356M\\367\\016\\016=Mq\\213\\007\\250\\231\\344\\241J\\261Y\\270\\007\\217N\\375\\361\\252\\317f\\270\\340\\255IB\\017\\004\\330\\223\\217O\\251&r\\035S\\322\\234{\\262wY\\000z\\001\\212I?\\377\\331\"\n",
      "      }\n",
      "    }\n",
      "  }\n",
      "}\n",
      "\n"
     ]
    }
   ],
   "source": [
    "# Understanding TFRecord files structure\n",
    "\n",
    "raw_dataset = tf.data.TFRecordDataset(\"/kaggle/input/tpu-getting-started/tfrecords-jpeg-192x192/val/05-192x192-232.tfrec\")\n",
    "\n",
    "for raw_record in raw_dataset.take(1):\n",
    "    example = tf.train.Example()\n",
    "    example.ParseFromString(raw_record.numpy())\n",
    "    print(example)\n",
    "    \n",
    "# Each records contain several features like class, id, and image."
   ]
  },
  {
   "cell_type": "code",
   "execution_count": 5,
   "id": "25b385e6",
   "metadata": {
    "execution": {
     "iopub.execute_input": "2024-02-29T06:39:16.588559Z",
     "iopub.status.busy": "2024-02-29T06:39:16.588170Z",
     "iopub.status.idle": "2024-02-29T06:39:16.970384Z",
     "shell.execute_reply": "2024-02-29T06:39:16.968795Z"
    },
    "papermill": {
     "duration": 0.392976,
     "end_time": "2024-02-29T06:39:16.972980",
     "exception": false,
     "start_time": "2024-02-29T06:39:16.580004",
     "status": "completed"
    },
    "tags": []
   },
   "outputs": [
    {
     "name": "stdout",
     "output_type": "stream",
     "text": [
      "gs://kds-138ac6922774963d086c5172228b1618b34a2e8cbf9e9b8d427510d2\n"
     ]
    }
   ],
   "source": [
    "# Get Google Clooud Storage path\n",
    "GCS_DS_PATH = KaggleDatasets().get_gcs_path('tpu-getting-started') # it's like /kaggle/input/tpu-getting-started\n",
    "print(GCS_DS_PATH)"
   ]
  },
  {
   "cell_type": "code",
   "execution_count": 6,
   "id": "c5f39e54",
   "metadata": {
    "execution": {
     "iopub.execute_input": "2024-02-29T06:39:16.989306Z",
     "iopub.status.busy": "2024-02-29T06:39:16.988470Z",
     "iopub.status.idle": "2024-02-29T06:39:17.422003Z",
     "shell.execute_reply": "2024-02-29T06:39:17.420787Z"
    },
    "papermill": {
     "duration": 0.446089,
     "end_time": "2024-02-29T06:39:17.425941",
     "exception": false,
     "start_time": "2024-02-29T06:39:16.979852",
     "status": "completed"
    },
    "tags": []
   },
   "outputs": [],
   "source": [
    "IMAGE_SIZE = [512, 512]\n",
    "GCS_PATH = GCS_DS_PATH + '/tfrecords-jpeg-512x512'\n",
    "\n",
    "# AUTOTUNE automatically chooses the optimal parallelism \n",
    "# for tf.data operations like map, batch, prefetch based on runtime hardware.\n",
    "AUTO = tf.data.experimental.AUTOTUNE\n",
    "\n",
    "# Dataset Path\n",
    "TRAINING_FILENAMES = tf.io.gfile.glob(GCS_PATH + '/train/*.tfrec')\n",
    "VALIDATION_FILENAMES = tf.io.gfile.glob(GCS_PATH + '/val/*.tfrec')\n",
    "TEST_FILENAMES = tf.io.gfile.glob(GCS_PATH + '/test/*.tfrec')\n",
    "\n",
    "# Flower Classes\n",
    "CLASSES = ['pink primrose',    'hard-leaved pocket orchid', 'canterbury bells', 'sweet pea',     'wild geranium',     'tiger lily',           'moon orchid',              'bird of paradise', 'monkshood',        'globe thistle',         # 00 - 09\n",
    "           'snapdragon',       \"colt's foot\",               'king protea',      'spear thistle', 'yellow iris',       'globe-flower',         'purple coneflower',        'peruvian lily',    'balloon flower',   'giant white arum lily', # 10 - 19\n",
    "           'fire lily',        'pincushion flower',         'fritillary',       'red ginger',    'grape hyacinth',    'corn poppy',           'prince of wales feathers', 'stemless gentian', 'artichoke',        'sweet william',         # 20 - 29\n",
    "           'carnation',        'garden phlox',              'love in the mist', 'cosmos',        'alpine sea holly',  'ruby-lipped cattleya', 'cape flower',              'great masterwort', 'siam tulip',       'lenten rose',           # 30 - 39\n",
    "           'barberton daisy',  'daffodil',                  'sword lily',       'poinsettia',    'bolero deep blue',  'wallflower',           'marigold',                 'buttercup',        'daisy',            'common dandelion',      # 40 - 49\n",
    "           'petunia',          'wild pansy',                'primula',          'sunflower',     'lilac hibiscus',    'bishop of llandaff',   'gaura',                    'geranium',         'orange dahlia',    'pink-yellow dahlia',    # 50 - 59\n",
    "           'cautleya spicata', 'japanese anemone',          'black-eyed susan', 'silverbush',    'californian poppy', 'osteospermum',         'spring crocus',            'iris',             'windflower',       'tree poppy',            # 60 - 69\n",
    "           'gazania',          'azalea',                    'water lily',       'rose',          'thorn apple',       'morning glory',        'passion flower',           'lotus',            'toad lily',        'anthurium',             # 70 - 79\n",
    "           'frangipani',       'clematis',                  'hibiscus',         'columbine',     'desert-rose',       'tree mallow',          'magnolia',                 'cyclamen ',        'watercress',       'canna lily',            # 80 - 89\n",
    "           'hippeastrum ',     'bee balm',                  'pink quill',       'foxglove',      'bougainvillea',     'camellia',             'mallow',                   'mexican petunia',  'bromelia',         'blanket flower',        # 90 - 99\n",
    "           'trumpet creeper',  'blackberry lily',           'common tulip',     'wild rose']                                                                                                                                               # 100 - 102"
   ]
  },
  {
   "cell_type": "code",
   "execution_count": 7,
   "id": "891dd731",
   "metadata": {
    "execution": {
     "iopub.execute_input": "2024-02-29T06:39:17.441551Z",
     "iopub.status.busy": "2024-02-29T06:39:17.440825Z",
     "iopub.status.idle": "2024-02-29T06:39:17.453810Z",
     "shell.execute_reply": "2024-02-29T06:39:17.452738Z"
    },
    "papermill": {
     "duration": 0.023503,
     "end_time": "2024-02-29T06:39:17.456342",
     "exception": false,
     "start_time": "2024-02-29T06:39:17.432839",
     "status": "completed"
    },
    "tags": []
   },
   "outputs": [],
   "source": [
    "# Data Preprocessing Function Definition\n",
    "\n",
    "def decode_img(img_data):\n",
    "    image = tf.image.decode_jpeg(img_data, channels=3)\n",
    "    image = tf.cast(image, tf.float32) / 255.0 # cast image to float32 in range [0, 1]\n",
    "    image = tf.reshape(image, [*IMAGE_SIZE, 3]) # reshape image to size 512x512x3, explicit size needed for TPU\n",
    "    return image\n",
    "    \n",
    "def parse_labeled_data(example_proto):\n",
    "    feature_desc = {\n",
    "        'class': tf.io.FixedLenFeature([], tf.int64),\n",
    "        'image': tf.io.FixedLenFeature([], tf.string)\n",
    "    }\n",
    "    example = tf.io.parse_single_example(example_proto, feature_desc)\n",
    "    clss = example['class']\n",
    "    image = decode_img(example['image'])\n",
    "    return clss, image\n",
    "    \n",
    "def parse_unlabeled_data(example_proto):\n",
    "    feature_desc = {\n",
    "        'id': tf.io.FixedLenFeature([], tf.string),\n",
    "        'image': tf.io.FixedLenFeature([], tf.string)\n",
    "    }\n",
    "    example = tf.io.parse_single_example(example_proto, feature_desc)\n",
    "    idnum = example['id']\n",
    "    image = decode_img(example['image'])\n",
    "    return idnum, image\n",
    "\n",
    "def load_dataset(filenames, labeled=True, ordered=False):\n",
    "    # Read from TFRecords. For optimal performance, reading from multiple files at once and\n",
    "    # disregarding data order. Order does not matter since we will be shuffling the data anyway.\n",
    "    ignore_order = tf.data.Options()\n",
    "    if not ordered:\n",
    "        # This will make the interleave order non-deterministic, increase speed\n",
    "        ignore_order.deterministic = False\n",
    "    \n",
    "    dataset = tf.data.TFRecordDataset(filenames, num_parallel_calls=AUTO) # num_parallel_calls for parallelism\n",
    "    dataset = dataset.with_options(ignore_order)\n",
    "    dataset = dataset.map(parse_labeled_data if labeled else parse_unlabeled_data, num_parallel_calls=AUTO)\n",
    "    # returns (class, image) pair if labeled=True or (id, image) pair if labeled=False\n",
    "    return dataset"
   ]
  },
  {
   "cell_type": "code",
   "execution_count": null,
   "id": "1f48756e",
   "metadata": {
    "execution": {
     "iopub.execute_input": "2024-02-29T06:03:47.969090Z",
     "iopub.status.busy": "2024-02-29T06:03:47.968652Z",
     "iopub.status.idle": "2024-02-29T06:03:47.975898Z",
     "shell.execute_reply": "2024-02-29T06:03:47.974432Z",
     "shell.execute_reply.started": "2024-02-29T06:03:47.969057Z"
    },
    "papermill": {
     "duration": 0.006296,
     "end_time": "2024-02-29T06:39:17.469353",
     "exception": false,
     "start_time": "2024-02-29T06:39:17.463057",
     "status": "completed"
    },
    "tags": []
   },
   "outputs": [],
   "source": []
  },
  {
   "cell_type": "code",
   "execution_count": 8,
   "id": "de2aa175",
   "metadata": {
    "execution": {
     "iopub.execute_input": "2024-02-29T06:39:17.484385Z",
     "iopub.status.busy": "2024-02-29T06:39:17.484011Z",
     "iopub.status.idle": "2024-02-29T06:39:17.492257Z",
     "shell.execute_reply": "2024-02-29T06:39:17.491184Z"
    },
    "papermill": {
     "duration": 0.018656,
     "end_time": "2024-02-29T06:39:17.494633",
     "exception": false,
     "start_time": "2024-02-29T06:39:17.475977",
     "status": "completed"
    },
    "tags": []
   },
   "outputs": [
    {
     "data": {
      "text/plain": [
       "'# Reading TFRecord Data\\n# Train Dataset\\ntrain_list = glob.glob(\"/kaggle/input/tpu-getting-started/tfrecords-jpeg-192x192/train/*.tfrec\")\\ntrain_data = tf.data.TFRecordDataset(train_list)\\n# Validation Dataset\\nval_list = glob.glob(\"/kaggle/input/tpu-getting-started/tfrecords-jpeg-192x192/val/*.tfrec\")\\nval_data = tf.data.TFRecordDataset(val_list)\\n# Test Dataset\\ntest_list = glob.glob(\"/kaggle/input/tpu-getting-started/tfrecords-jpeg-192x192/test/*.tfrec\")\\ntest_data = tf.data.TFRecordDataset(test_list)'"
      ]
     },
     "execution_count": 8,
     "metadata": {},
     "output_type": "execute_result"
    }
   ],
   "source": [
    "\"\"\"# Reading TFRecord Data\n",
    "# Train Dataset\n",
    "train_list = glob.glob(\"/kaggle/input/tpu-getting-started/tfrecords-jpeg-192x192/train/*.tfrec\")\n",
    "train_data = tf.data.TFRecordDataset(train_list)\n",
    "# Validation Dataset\n",
    "val_list = glob.glob(\"/kaggle/input/tpu-getting-started/tfrecords-jpeg-192x192/val/*.tfrec\")\n",
    "val_data = tf.data.TFRecordDataset(val_list)\n",
    "# Test Dataset\n",
    "test_list = glob.glob(\"/kaggle/input/tpu-getting-started/tfrecords-jpeg-192x192/test/*.tfrec\")\n",
    "test_data = tf.data.TFRecordDataset(test_list)\"\"\""
   ]
  },
  {
   "cell_type": "code",
   "execution_count": 9,
   "id": "29da7f9d",
   "metadata": {
    "execution": {
     "iopub.execute_input": "2024-02-29T06:39:17.510726Z",
     "iopub.status.busy": "2024-02-29T06:39:17.509693Z",
     "iopub.status.idle": "2024-02-29T06:39:17.517817Z",
     "shell.execute_reply": "2024-02-29T06:39:17.516781Z"
    },
    "papermill": {
     "duration": 0.018711,
     "end_time": "2024-02-29T06:39:17.520233",
     "exception": false,
     "start_time": "2024-02-29T06:39:17.501522",
     "status": "completed"
    },
    "tags": []
   },
   "outputs": [
    {
     "data": {
      "text/plain": [
       "\"# Parsing Function\\n# For labeled data like training and validation data\\ndef parse_labeled_data(example_proto):\\n    feature_desc = {\\n        'class': tf.io.FixedLenFeature([], tf.int64),\\n        'image': tf.io.FixedLenFeature([], tf.string)\\n    }\\n    example = tf.io.parse_single_example(example_proto, feature_desc)\\n    clss = example['class']\\n    image = tf.io.decode_jpeg(example['image'], channels=3)\\n    return clss, image\\n\\n# For unlabeled data like test data\\ndef parse_unlabeled_data(example_proto):\\n    feature_desc = {\\n        'id': tf.io.FixedLenFeature([], tf.string),\\n        'image': tf.io.FixedLenFeature([], tf.string)\\n    }\\n    example = tf.io.parse_single_example(example_proto, feature_desc)\\n    idnum = example['id']\\n    image = tf.io.decode_jpeg(example['image'], channels=3)\\n    return idnum, image\\n\\n# Apply the Parse Function into Dataset\\ntrain_data = train_data.map(parse_labeled_data)\\nval_data = val_data.map(parse_labeled_data)\\ntest_data = test_data.map(parse_unlabeled_data)\""
      ]
     },
     "execution_count": 9,
     "metadata": {},
     "output_type": "execute_result"
    }
   ],
   "source": [
    "'''# Parsing Function\n",
    "# For labeled data like training and validation data\n",
    "def parse_labeled_data(example_proto):\n",
    "    feature_desc = {\n",
    "        'class': tf.io.FixedLenFeature([], tf.int64),\n",
    "        'image': tf.io.FixedLenFeature([], tf.string)\n",
    "    }\n",
    "    example = tf.io.parse_single_example(example_proto, feature_desc)\n",
    "    clss = example['class']\n",
    "    image = tf.io.decode_jpeg(example['image'], channels=3)\n",
    "    return clss, image\n",
    "\n",
    "# For unlabeled data like test data\n",
    "def parse_unlabeled_data(example_proto):\n",
    "    feature_desc = {\n",
    "        'id': tf.io.FixedLenFeature([], tf.string),\n",
    "        'image': tf.io.FixedLenFeature([], tf.string)\n",
    "    }\n",
    "    example = tf.io.parse_single_example(example_proto, feature_desc)\n",
    "    idnum = example['id']\n",
    "    image = tf.io.decode_jpeg(example['image'], channels=3)\n",
    "    return idnum, image\n",
    "\n",
    "# Apply the Parse Function into Dataset\n",
    "train_data = train_data.map(parse_labeled_data)\n",
    "val_data = val_data.map(parse_labeled_data)\n",
    "test_data = test_data.map(parse_unlabeled_data)'''"
   ]
  },
  {
   "cell_type": "code",
   "execution_count": 10,
   "id": "d4cb5726",
   "metadata": {
    "execution": {
     "iopub.execute_input": "2024-02-29T06:39:17.536490Z",
     "iopub.status.busy": "2024-02-29T06:39:17.535815Z",
     "iopub.status.idle": "2024-02-29T06:39:17.541468Z",
     "shell.execute_reply": "2024-02-29T06:39:17.540739Z"
    },
    "papermill": {
     "duration": 0.016384,
     "end_time": "2024-02-29T06:39:17.543736",
     "exception": false,
     "start_time": "2024-02-29T06:39:17.527352",
     "status": "completed"
    },
    "tags": []
   },
   "outputs": [
    {
     "data": {
      "text/plain": [
       "'for element in train_data.take(1):\\n    print(element)'"
      ]
     },
     "execution_count": 10,
     "metadata": {},
     "output_type": "execute_result"
    }
   ],
   "source": [
    "\"\"\"for element in train_data.take(1):\n",
    "    print(element)\"\"\""
   ]
  },
  {
   "cell_type": "code",
   "execution_count": 11,
   "id": "849bdaa4",
   "metadata": {
    "execution": {
     "iopub.execute_input": "2024-02-29T06:39:17.560147Z",
     "iopub.status.busy": "2024-02-29T06:39:17.559766Z",
     "iopub.status.idle": "2024-02-29T06:39:17.566253Z",
     "shell.execute_reply": "2024-02-29T06:39:17.565222Z"
    },
    "papermill": {
     "duration": 0.017432,
     "end_time": "2024-02-29T06:39:17.568515",
     "exception": false,
     "start_time": "2024-02-29T06:39:17.551083",
     "status": "completed"
    },
    "tags": []
   },
   "outputs": [
    {
     "data": {
      "text/plain": [
       "'for clss, _id, img in train_data.take(2):\\n    plt.figure()\\n    plt.imshow(img.numpy())\\n    plt.title(\"Class: \" + str(clss.numpy()))\\n    plt.axis(\\'off\\')\\n\\nplt.show()'"
      ]
     },
     "execution_count": 11,
     "metadata": {},
     "output_type": "execute_result"
    }
   ],
   "source": [
    "\"\"\"for clss, _id, img in train_data.take(2):\n",
    "    plt.figure()\n",
    "    plt.imshow(img.numpy())\n",
    "    plt.title(\"Class: \" + str(clss.numpy()))\n",
    "    plt.axis('off')\n",
    "\n",
    "plt.show()\"\"\""
   ]
  }
 ],
 "metadata": {
  "kaggle": {
   "accelerator": "none",
   "dataSources": [
    {
     "databundleVersionId": 1243559,
     "sourceId": 21154,
     "sourceType": "competition"
    }
   ],
   "dockerImageVersionId": 30646,
   "isGpuEnabled": false,
   "isInternetEnabled": true,
   "language": "python",
   "sourceType": "notebook"
  },
  "kernelspec": {
   "display_name": "Python 3",
   "language": "python",
   "name": "python3"
  },
  "language_info": {
   "codemirror_mode": {
    "name": "ipython",
    "version": 3
   },
   "file_extension": ".py",
   "mimetype": "text/x-python",
   "name": "python",
   "nbconvert_exporter": "python",
   "pygments_lexer": "ipython3",
   "version": "3.10.13"
  },
  "papermill": {
   "default_parameters": {},
   "duration": 22.073023,
   "end_time": "2024-02-29T06:39:19.000094",
   "environment_variables": {},
   "exception": null,
   "input_path": "__notebook__.ipynb",
   "output_path": "__notebook__.ipynb",
   "parameters": {},
   "start_time": "2024-02-29T06:38:56.927071",
   "version": "2.5.0"
  }
 },
 "nbformat": 4,
 "nbformat_minor": 5
}
